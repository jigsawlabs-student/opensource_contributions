{
 "cells": [
  {
   "cell_type": "markdown",
   "id": "3ecc3b1c-d763-44fc-bc67-2a56495792f2",
   "metadata": {},
   "source": [
    "# Getting Oriented"
   ]
  },
  {
   "cell_type": "markdown",
   "id": "e3ac8a4c-2e6c-43cd-960f-56a93d4db318",
   "metadata": {},
   "source": [
    "### Introduction"
   ]
  },
  {
   "cell_type": "markdown",
   "id": "198e35eb-030f-48f3-ba07-1944c0f7488e",
   "metadata": {},
   "source": [
    "In this unit, we'll see how we can get navigate, and ultimately contribute to large codebases.  These can be any codebases, but we'll focus on open source codebases, and specifically the [Langchain codebase](https://github.com/langchain-ai/langchain/).  \n",
    "\n",
    "Langchain is a framework that helps developers to LLM based applications.  The framework can help with developing LLM chatbots, rag pipelines and document summarization.\n",
    "\n",
    "It was developed in 2022, and it's codebase currently has over 80,000 stars.  Let's help it get some more."
   ]
  },
  {
   "cell_type": "markdown",
   "id": "9f2432ec-8995-415e-9bce-9929a30fda52",
   "metadata": {},
   "source": [
    "### Where do we start"
   ]
  },
  {
   "cell_type": "markdown",
   "id": "3dea204d-d381-4c0f-83a8-1e89d229050b",
   "metadata": {},
   "source": [
    "We can learn a little about langchain by looking through the [langchain readme](https://github.com/langchain-ai/langchain/?tab=readme-ov-file).  The readme discusses some of the features of langchain, but we can go back and review these if we find ourselves lost.  \n",
    "\n",
    "We're interested in contributing, and we'll see information about that towards the end of the readme.      "
   ]
  },
  {
   "cell_type": "markdown",
   "id": "9ff1828e-0b17-4034-b091-0792d1f889b3",
   "metadata": {},
   "source": [
    "> <img src=\"./contributing.png\" width=\"60%\">"
   ]
  },
  {
   "cell_type": "markdown",
   "id": "8989be3a-daf8-4e17-a78e-93b5632e7ec3",
   "metadata": {},
   "source": [
    "It points us to the following link.  Click [here](https://python.langchain.com/docs/contributing/).  "
   ]
  },
  {
   "cell_type": "markdown",
   "id": "7d6d7a5a-391c-41f3-b5e4-b5ed370ebf20",
   "metadata": {},
   "source": [
    "<img src=\"./welcome-contributors.png\" width=\"60%\">"
   ]
  },
  {
   "cell_type": "markdown",
   "id": "fc71110a-5f1e-4064-a2aa-2db625b354cd",
   "metadata": {},
   "source": [
    "Ok, so it's good to at least read the first page there.  It tells us the kinds of ways we can contribute, that we can propose changes via Github discussions, and that we can contact a maintainer for help.  Seems like it's friendly to contributors.\n",
    "\n",
    "The other thing to look at are the additional pages in the navigation bar to the left.  They tell us about the repository structure, how to contribute code and so on. Take a few minutes now to click through them to see what they're about (but don't spend more than 5 - 10 minutes looking through these)."
   ]
  },
  {
   "cell_type": "markdown",
   "id": "988a3068-2eb2-434d-a585-f2c29bd23588",
   "metadata": {},
   "source": [
    "> **Our approach so far**: Notice that we are pretty focused on our goal: making contributions, but we are also taking sometime to look around.  Essentially, what we're doing is keeping track of the various resources we encounter as we move forward.  So later on, if say we feel ourselves lost in the codebase, perhaps we can look at the Repository Structure.  But once we know that it's there, we can either just scan it over for a minute or two, or just take notice and move forward."
   ]
  },
  {
   "cell_type": "markdown",
   "id": "cae65ae2-0ee5-4059-a9e9-df33813793c8",
   "metadata": {},
   "source": [
    "### Finding an Issue"
   ]
  },
  {
   "cell_type": "markdown",
   "id": "11171f12-1d57-4456-974c-51128705e416",
   "metadata": {},
   "source": [
    "Ok, so next up would be to see if there are some issues that we can work on.  Essentially, we're looking for something simple.  "
   ]
  },
  {
   "cell_type": "markdown",
   "id": "105fbfd9-ab36-422d-af23-cfd0377062a5",
   "metadata": {},
   "source": [
    "Many large repositories will label their issues -- and may even have tagged issues with something like `good first issue`.  Let's see if that's in langchain.  We can see the [langchain issues here](https://github.com/langchain-ai/langchain/issues)."
   ]
  },
  {
   "cell_type": "markdown",
   "id": "57f938d8-4bfe-4be9-8b40-a34bf58192cb",
   "metadata": {},
   "source": [
    "<img src=\"./first-issues.png\" width=\"60%\">"
   ]
  },
  {
   "cell_type": "markdown",
   "id": "25fff5be-2131-46a1-9b5e-8132e9ead2d1",
   "metadata": {},
   "source": [
    "Ok, so if we click on labels, we can then select the \"good first issue\" tag to find easier issues."
   ]
  },
  {
   "cell_type": "markdown",
   "id": "39fce01a-0d53-4943-977b-57960a909577",
   "metadata": {},
   "source": [
    "> You can look for the current [good first issues here](https://github.com/langchain-ai/langchain/issues?q=is%3Aopen+is%3Aissue+label%3A%22good+first+issue%22)."
   ]
  },
  {
   "cell_type": "markdown",
   "id": "ce78be16-d448-4e9d-b8e4-a7cd2cd7db90",
   "metadata": {},
   "source": [
    "### Choosing an issue"
   ]
  },
  {
   "cell_type": "markdown",
   "id": "41ea0be7-6044-47a3-8a50-67a5672d10e8",
   "metadata": {},
   "source": [
    "When choosing an issue, bugs are typically easier than features, and it's probably good to read through the titles of **all** of the good first issues, and then click on ones that seem particularly easy.  \n",
    "\n",
    "> We should click on a lot of candidates here.  We'll may spend days working on a single issue, so devoting an hour to reading through potential issues can save us some pain later on."
   ]
  },
  {
   "cell_type": "markdown",
   "id": "574634fb-809f-4a4a-8d92-aab56b5464b6",
   "metadata": {},
   "source": [
    "> Read through a couple of issues now."
   ]
  },
  {
   "cell_type": "markdown",
   "id": "7c53ecb8-49e0-4668-9878-6c89138d3506",
   "metadata": {},
   "source": [
    "* Digging deeper"
   ]
  },
  {
   "cell_type": "markdown",
   "id": "6d44ad06-8d17-48e4-be27-6ecff81fc42b",
   "metadata": {},
   "source": [
    "Once you click on an issue, the next step is to see how well you understand the bug.  Sometimes, there will be a lot of clarifying discussion, and even proposals of different solutions that you can then explore."
   ]
  },
  {
   "cell_type": "markdown",
   "id": "859b5131-eb48-4fd4-9d02-e3fc14fe04ef",
   "metadata": {},
   "source": [
    "We'll walk through a well written issue in the next lesson but for now, look at the [good first issues here](https://github.com/langchain-ai/langchain/issues?q=is%3Aopen+is%3Aissue+label%3A%22good+first+issue%22), and see which ones you would choose.  \n",
    "\n",
    "> Do not spend more than 20 minutes on this exercise."
   ]
  },
  {
   "cell_type": "markdown",
   "id": "f2adb586-7b13-4905-9ca1-36e53b26d935",
   "metadata": {},
   "source": [
    "### Summary"
   ]
  },
  {
   "cell_type": "markdown",
   "id": "fe8ab112-35ca-4b95-8ff1-ad2bf7027409",
   "metadata": {},
   "source": [
    "In this lesson, we took the first steps to making an open source contribution.  This meant taking note of:\n",
    "    \n",
    "* [The Repo's Readme](https://github.com/langchain-ai/langchain)\n",
    "* [The Contribution Guide](https://python.langchain.com/docs/contributing/)\n",
    "* [Good First Issues](https://github.com/langchain-ai/langchain/issues?q=is%3Aopen+is%3Aissue+label%3A%22good+first+issue%22)"
   ]
  },
  {
   "cell_type": "markdown",
   "id": "d029f7a7-1df5-4f11-ae2c-32cee83da2eb",
   "metadata": {},
   "source": [
    "The contribution guide is particularly relevant, and is good to scan through.  Make sure you read through some good first issues to see which look appealing to get started on."
   ]
  }
 ],
 "metadata": {
  "kernelspec": {
   "display_name": "Python 3 (ipykernel)",
   "language": "python",
   "name": "python3"
  },
  "language_info": {
   "codemirror_mode": {
    "name": "ipython",
    "version": 3
   },
   "file_extension": ".py",
   "mimetype": "text/x-python",
   "name": "python",
   "nbconvert_exporter": "python",
   "pygments_lexer": "ipython3",
   "version": "3.10.14"
  }
 },
 "nbformat": 4,
 "nbformat_minor": 5
}
