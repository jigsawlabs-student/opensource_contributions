{
 "cells": [
  {
   "cell_type": "markdown",
   "id": "bbd17f4f-9157-4f87-95f5-c2495b290fde",
   "metadata": {},
   "source": [
    "# Making our Submission"
   ]
  },
  {
   "cell_type": "markdown",
   "id": "0cccc5cd-fd4b-4e1f-9038-809747bb5181",
   "metadata": {},
   "source": [
    "### Introduction"
   ]
  },
  {
   "cell_type": "markdown",
   "id": "347e4242-a1f3-44ff-9592-6137d2c4b52e",
   "metadata": {},
   "source": [
    "In the last lesson, we made a git commit that fixed our issue.  It was harder than we thought -- diffing, linting, amending, and adding a multiline commit.  But we made it through.\n",
    "\n",
    "Now before we push up our branch, we will want to make sure that our codebase is up to date with the master branch.  We'll mainly do that with the `git rebase` command.  And we'll discuss that, and more in this lesson."
   ]
  },
  {
   "cell_type": "markdown",
   "id": "b947d75f-72c1-4547-ad35-e6fc08a10a1f",
   "metadata": {},
   "source": [
    "### Our plan"
   ]
  },
  {
   "cell_type": "markdown",
   "id": "6eea1840-2e9c-465c-b970-ebe29e8ebbee",
   "metadata": {},
   "source": [
    "So at this point, we have made a commit on our feature branch `standardize_perplexity_params`.  And we now want to make sure that we are up to date with any commits that have pushed by others to the remote master branch.\n",
    "\n",
    "To accomplish that our strategy will be to:\n",
    "\n",
    "1. Make sure our local master branch is up to date with the remote \n",
    "2. Then we'll want these commits that we just pulled down to be moved to our feature branch.  \n",
    "    * But, we'll want the commit we made to be on top"
   ]
  },
  {
   "cell_type": "markdown",
   "id": "625ae566-3ef5-4d51-a98f-f37139517303",
   "metadata": {},
   "source": [
    "Ok, let's get going."
   ]
  },
  {
   "cell_type": "markdown",
   "id": "8b7f823a-f4e0-42fb-871d-8f0180bbe670",
   "metadata": {},
   "source": [
    "### Taking action"
   ]
  },
  {
   "cell_type": "markdown",
   "id": "17d9be99-0ae6-4d12-9d6b-17164bd9b7f3",
   "metadata": {},
   "source": [
    "So currently we're on our feature branch `standardize_perplexity_params`.  Let's move over to our master branch so we can then pull down any new commits that were pushed to github.\n",
    "\n",
    "* `git checkout master`"
   ]
  },
  {
   "cell_type": "markdown",
   "id": "b5df9adc-2683-464c-a754-8dd143f3c4dd",
   "metadata": {},
   "source": [
    "Now if you type `git remote -v`, you'll see the remote branch that your local repository points to.\n",
    "\n",
    "```bash\n",
    "git remote -v\n",
    "origin  https://github.com/your_user_name/langchain\n",
    "```"
   ]
  },
  {
   "cell_type": "markdown",
   "id": "02b39a9a-b2b9-4634-9e4d-8be70a33f0ff",
   "metadata": {},
   "source": [
    "> If you do not have that as your origin, you can update it by forking the langchain repo, if you have not already, and then updating origin to point to your forked version.\n",
    "\n",
    "> `git remote set-url origin https://github.com/your_user_name/langchain`\n",
    "\n",
    "> You can then confirm this is properly setup by again typing:\n",
    "\n",
    "> `git remote -v`"
   ]
  },
  {
   "cell_type": "markdown",
   "id": "7e202c44-d670-4282-b9dc-4938ac507af0",
   "metadata": {},
   "source": [
    "Now go to that your github account's langchain repo."
   ]
  },
  {
   "cell_type": "markdown",
   "id": "b0625928-b84d-4cb6-beed-67444fd76ef3",
   "metadata": {},
   "source": [
    "> <img src=\"./sync-fork.png\" width=\"80%\">"
   ]
  },
  {
   "cell_type": "markdown",
   "id": "e4d81a6f-e125-4498-870a-cb920b2e64f6",
   "metadata": {},
   "source": [
    "You can see at the top left that this is `forked from lanchain-ai/langchain` and then a little further down we see `This branch is ... commits behind`.\n",
    "\n",
    "To get our **remote master** branch up to date, click on the button that says `Sync fork`.  This will update your master branch with langchain's master branch."
   ]
  },
  {
   "cell_type": "markdown",
   "id": "e43a1085-b86d-4a2b-a619-4a08e0810a90",
   "metadata": {},
   "source": [
    "<img src=\"./update-branch.png\" width=\"50%\">"
   ]
  },
  {
   "cell_type": "markdown",
   "id": "5377443f-f88b-474c-8403-75250747f9b2",
   "metadata": {},
   "source": [
    "> Click on `Update branch`."
   ]
  },
  {
   "cell_type": "markdown",
   "id": "778e8b31-dcf9-4c7e-9004-d8b445d28c69",
   "metadata": {},
   "source": [
    "Once your remote branch is up to date with langchain's then we can pull down those changes onto your master branch on your laptop."
   ]
  },
  {
   "cell_type": "markdown",
   "id": "53e420e2-b8d2-4e57-b65f-e81a5d4b4855",
   "metadata": {},
   "source": [
    "`git checkout master`"
   ]
  },
  {
   "cell_type": "markdown",
   "id": "ed6a0e26-b3ea-406f-83b0-f630e194df67",
   "metadata": {},
   "source": [
    "`git pull origin master`"
   ]
  },
  {
   "cell_type": "markdown",
   "id": "bb9ecf21-e60a-4d8d-b692-820715e1156e",
   "metadata": {},
   "source": [
    "### Updating the feature branch"
   ]
  },
  {
   "cell_type": "markdown",
   "id": "a1c275c3-5721-4a3d-9ea6-3fe6699c11e5",
   "metadata": {},
   "source": [
    "Ok, so at this point, the your local master branch should be up to date with your remote branch.  Next, we will also want to get the feature branch (where we made our commit) up to date."
   ]
  },
  {
   "cell_type": "markdown",
   "id": "0451f93e-20eb-461d-8b50-bb3f13302f33",
   "metadata": {},
   "source": [
    "You can type the following:\n",
    "    \n",
    "* `git checkout standardize_perplexity_params`\n",
    "\n",
    "> You can also type `git checkout -`, where the `-` takes you to the branch you were most recently were on."
   ]
  },
  {
   "cell_type": "markdown",
   "id": "e93761d7-a000-478a-82d7-7a52a84a8f7b",
   "metadata": {
    "tags": []
   },
   "source": [
    "If you type `git log -2`, you should see your most recent commit. \n",
    "\n",
    "```bash\n",
    "git log -2\n",
    "commit 20f2747394cb2040fcdc7a9a10079b5451c9b981 (HEAD -> standardize_perplexity_params)\n",
    "Author: Author Name <email@example.com>\n",
    "Date:   Wed May 1 19:05:39 2024 +0000\n",
    "\n",
    "    community:perplexity[patch]: standardize init args\n",
    "```\n",
    "\n",
    "Now our goal will be to merge over all of the commits now on our main branch, but still keep our commit on top.  We can do so with the following:\n",
    "\n",
    "```bash\n",
    "git rebase master\n",
    "```"
   ]
  },
  {
   "cell_type": "markdown",
   "id": "f6c31a0d-8fa0-44f4-85c9-e43d7ef7aad6",
   "metadata": {},
   "source": [
    "> You'll have to handle any merge conflicts that there are.  It's possible you may also find your commit for this lab has disappeared if the langchain repo already has made those changes, and it detects no changes have been made. "
   ]
  },
  {
   "cell_type": "markdown",
   "id": "91d4faee-0d16-425b-b739-03a4d13a2fed",
   "metadata": {},
   "source": [
    "### Pushing the change"
   ]
  },
  {
   "cell_type": "markdown",
   "id": "d0e99ceb-3187-4deb-8c56-04461f2b97db",
   "metadata": {},
   "source": [
    "Once the rebase is complete, the feature branch should be in a good state.  We have all of the updates from the remote branch, plus the extra feature commit.  The next step is to push *your feature branch* up to *your* remote repository's feature branch (not langchain's).  "
   ]
  },
  {
   "cell_type": "markdown",
   "id": "7f18448a-258c-46b0-913c-5b0368c484e1",
   "metadata": {},
   "source": [
    "* `git push origin standardize_perplexity_params`"
   ]
  },
  {
   "cell_type": "markdown",
   "id": "d90b80e6-c693-4213-9da8-d60d49dbbf35",
   "metadata": {},
   "source": [
    "You can then go to your github repository and switch over to your feature branch."
   ]
  },
  {
   "cell_type": "markdown",
   "id": "a4c9c909-76e7-4456-a236-2578f2693e74",
   "metadata": {},
   "source": [
    "<img src=\"./remote-feature-branch.png\" width=\"30%\">"
   ]
  },
  {
   "cell_type": "markdown",
   "id": "43dfe11d-27d3-4f7f-9a70-4e4ee2d18611",
   "metadata": {},
   "source": [
    "If you got out of sync with the main branch in the meantime, and click on sync fork, it will essentially perform rebase for you, placing the changes from your branches new commits on top."
   ]
  },
  {
   "cell_type": "markdown",
   "id": "96a42710-0e96-4255-a2d0-036e9d4cd8bc",
   "metadata": {},
   "source": [
    "> You can see that here.  After clicking sync fork, the branch is now only ahead of langchain master."
   ]
  },
  {
   "cell_type": "markdown",
   "id": "9e4df41c-0a6f-44b2-b468-71cf3ab19024",
   "metadata": {},
   "source": [
    "<img src=\"./sync-pull-request.png\" width=\"60%\">"
   ]
  },
  {
   "cell_type": "markdown",
   "id": "fcf5e118-7319-476a-b385-93adf6beceb7",
   "metadata": {},
   "source": [
    "If you click on the `Compare & Pull Request` button, you can prepare to make a pull request to langchain.  (Don't worry we won't actually do this).  But click the green button for `Compare & Pull request`."
   ]
  },
  {
   "cell_type": "markdown",
   "id": "068f9a49-7bfd-4d0b-bc4a-a83793f783ac",
   "metadata": {},
   "source": [
    "### Prepping a Pull Request"
   ]
  },
  {
   "cell_type": "markdown",
   "id": "fc388c7f-5b3f-49fe-a643-f8c54da87f3d",
   "metadata": {},
   "source": [
    "<img src=\"./add-change.png\">"
   ]
  },
  {
   "cell_type": "markdown",
   "id": "9b21331c-c6b9-47ed-b9dc-9f0cb4dd537d",
   "metadata": {},
   "source": [
    "So github is preparing a pull request for us.  At the top in gray, you can see that it is attempting to submit a pull request to merge the feature branch on your repository into the master branch in langchain's repository.\n",
    "\n",
    "Then below it shows a template for how to title your pull request, and a checklist (like writing tests) before submitting a pull request.\n",
    "\n",
    "It gives you an example of the title for the pull request.  Our title can be `community:perplexity[patch]: standardize init args`.  And then move through the rest of the checklist.\n",
    "\n",
    "What's placed here, will be the merge commit that the maintainer sees when you submit your pull request.  If you click on the pull request I submitted, you can see that when you submit your pull request the commit you add here will be on top, and then will come the rest of your commits."
   ]
  },
  {
   "cell_type": "markdown",
   "id": "3128e2f1-03f5-47ff-8461-afc41b193909",
   "metadata": {},
   "source": [
    "> <img src=\"./commits-pull-request.png\">"
   ]
  },
  {
   "cell_type": "markdown",
   "id": "5587813f-511d-4b5b-869b-871e84bcb170",
   "metadata": {},
   "source": [
    "Ok, so if we submitted the pull request (don't do so here), you can then go to langchain's repo to find your pull request."
   ]
  },
  {
   "cell_type": "markdown",
   "id": "9db15273-5f97-4291-bc62-64f460dff3d1",
   "metadata": {},
   "source": [
    "> <img src=\"./small-pull.png\" width=\"60%\">"
   ]
  },
  {
   "cell_type": "markdown",
   "id": "0d17ac00-4a43-4eee-920f-c94b0ddc0875",
   "metadata": {},
   "source": [
    "The brown dot above means that the checks are still in progress.  But eventually there was a failure."
   ]
  },
  {
   "cell_type": "markdown",
   "id": "9eaf39ab-6445-4947-9d46-7f9a7a38cbf2",
   "metadata": {},
   "source": [
    "> <img src=\"./running-checks.png\" width=\"60%\">"
   ]
  },
  {
   "cell_type": "markdown",
   "id": "6b08eb35-2eda-40a1-a3ce-8667ee1063ad",
   "metadata": {},
   "source": [
    "Here we see that github actions is running various checks on our code, but it broke when it ran `ruff`, as ruff wanted some code formats.  (I forgot to run our `poetry run ruff format` during the original submission).  \n",
    "\n",
    "So I would need to update my pull request.  Doing so is not so difficult.  I can just go back to VSCode, make the change and then push up to *my* repository.  Github will automatically include this new commit along with my pull request.\n",
    "\n",
    "You can see that here."
   ]
  },
  {
   "cell_type": "markdown",
   "id": "d9128399-a1b1-4249-b071-2da0f191f0e8",
   "metadata": {
    "tags": []
   },
   "source": [
    "> <img src=\"./add-commit.png\" width=\"60%\">"
   ]
  },
  {
   "cell_type": "markdown",
   "id": "bd97d3be-5457-4e18-b412-d5b58824b923",
   "metadata": {},
   "source": [
    "The maintainer (in addition to the github actions check) caught my formatting error, and requested I fix it.  Once I fixed locally, and then pushed up to my github repository the `format code for clarity` commit was automatically included along with my pull request.  \n",
    "\n",
    "Again you can see that [here](https://github.com/langchain-ai/langchain/pull/20844).  Eventually, all of the checks successfully passed and the pull request was merged into the main repository.  Success."
   ]
  }
 ],
 "metadata": {
  "kernelspec": {
   "display_name": "Python 3 (ipykernel)",
   "language": "python",
   "name": "python3"
  },
  "language_info": {
   "codemirror_mode": {
    "name": "ipython",
    "version": 3
   },
   "file_extension": ".py",
   "mimetype": "text/x-python",
   "name": "python",
   "nbconvert_exporter": "python",
   "pygments_lexer": "ipython3",
   "version": "3.10.14"
  }
 },
 "nbformat": 4,
 "nbformat_minor": 5
}
