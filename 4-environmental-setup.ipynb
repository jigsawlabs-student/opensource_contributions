{
 "cells": [
  {
   "cell_type": "markdown",
   "id": "b96fe9e0-8720-450e-a1b8-d02da9cd7cc0",
   "metadata": {},
   "source": [
    "# Environmental Setup"
   ]
  },
  {
   "cell_type": "markdown",
   "id": "d0b809de-83ef-4de3-8c57-297080e3630a",
   "metadata": {
    "tags": []
   },
   "source": [
    "### Introduction"
   ]
  },
  {
   "cell_type": "markdown",
   "id": "04a29037-1db3-4390-958c-865be72b62f6",
   "metadata": {},
   "source": [
    "In this lesson, we'll move through the steps to set up our environment to explore the langchain codebase.  Let's get started."
   ]
  },
  {
   "cell_type": "markdown",
   "id": "3d899242-bb83-4070-b1ea-5d60567d4384",
   "metadata": {},
   "source": [
    "### Getting started"
   ]
  },
  {
   "cell_type": "markdown",
   "id": "1b7a0d75-d140-4489-aaec-3e0510262cfb",
   "metadata": {},
   "source": [
    "Oftentimes, the codebase will provide some instructions on how to set up the development environment.  You may remember from our first lesson, that there is both the [Readme](https://github.com/langchain-ai/langchain/?tab=readme-ov-file) to the codebase, and then a link for [how to contribute](https://python.langchain.com/docs/contributing/).\n",
    "\n",
    "Read through the following page on how to [contribute to the codebase](https://python.langchain.com/docs/contributing/code/).\n",
    "\n",
    "Ok, so a little down the document, it indicates in the quickstart, how to set up a development container."
   ]
  },
  {
   "cell_type": "markdown",
   "id": "dcad32da-6fdd-437c-884d-f338dc6f0305",
   "metadata": {},
   "source": [
    "> <img src=\"./dev-container.png\" width=\"80%\">"
   ]
  },
  {
   "cell_type": "markdown",
   "id": "0f937f37-78e4-4d37-b698-f08242e0c115",
   "metadata": {},
   "source": [
    "Ok, it points us towards the `.decontainer folder`, so let's [go there](https://github.com/langchain-ai/langchain/tree/master/.devcontainer).  \n",
    "\n",
    "This folder itself comes with it's own readme.  Lucky us.  Let's take a look."
   ]
  },
  {
   "cell_type": "markdown",
   "id": "f3b541e4-10ee-41e2-bd25-87410d79ccfa",
   "metadata": {},
   "source": [
    "> <img src=\"./dev-readme.png\">"
   ]
  },
  {
   "cell_type": "markdown",
   "id": "672c7642-2805-4e34-a084-b39e4ffab216",
   "metadata": {},
   "source": [
    "So this `.devcontainer` section gives us two different mechanisms for setting up our codebase.  First is codespaces, where Github will set up a development environment that you can access from the browser.  The second is `VS Code Dev Containers`.  With the second option, the code should be able to be accessed locally, and we will be able to make changes to our codebase from VS code, and from within the running container.\n",
    "\n",
    "So essentially, VS code will bindmount our codebase to inside a running container.  This is what we want."
   ]
  },
  {
   "cell_type": "markdown",
   "id": "6b6f4abc-1bdb-4fc9-b62d-2c38fdd1a952",
   "metadata": {},
   "source": [
    "### Using Devcontainers"
   ]
  },
  {
   "cell_type": "markdown",
   "id": "44941b55-89b3-42fb-827c-c242c3bd5d75",
   "metadata": {},
   "source": [
    "The first step is to fork the repository to your own github organization.  So go to the [langchain repo](https://github.com/langchain-ai/langchain) and then click on the `Fork` button to the right."
   ]
  },
  {
   "cell_type": "markdown",
   "id": "8d6c88db-592b-4475-a971-c6c0ebe69e7c",
   "metadata": {},
   "source": [
    "<img src=\"./fork-repo.png\" width=\"80%\">"
   ]
  },
  {
   "cell_type": "markdown",
   "id": "efd5fd03-a0d6-47ad-805b-ad8a617217a6",
   "metadata": {},
   "source": [
    "Then from there, you should be able to see your own copy of the langchain library in your account."
   ]
  },
  {
   "cell_type": "markdown",
   "id": "2d678491-1907-4651-a429-3e47337a6b60",
   "metadata": {},
   "source": [
    "<img src=\"./forked-repo.png\" width=\"60%\">"
   ]
  },
  {
   "cell_type": "markdown",
   "id": "958c6a05-b162-489d-bcdc-a399c91973cb",
   "metadata": {},
   "source": [
    "Next, **close down VSCode**, if it is already running.  "
   ]
  },
  {
   "cell_type": "markdown",
   "id": "49b65cf0-3308-4eac-aaa1-b0ca07df8f04",
   "metadata": {},
   "source": [
    "And, next you'll need to update the following url with your username."
   ]
  },
  {
   "cell_type": "markdown",
   "id": "c33045fb-052c-4d3d-a6da-ef4bfc647e4d",
   "metadata": {},
   "source": [
    "`https://vscode.dev/redirect?url=vscode://ms-vscode-remote.remote-containers/cloneInVolume?url=https://github.com/<yourusername>/<yourclonedreponame>`"
   ]
  },
  {
   "cell_type": "markdown",
   "id": "20c840c3-0e1a-4ed9-b654-f916c700027a",
   "metadata": {},
   "source": [
    "So for example, for me, it's:"
   ]
  },
  {
   "cell_type": "markdown",
   "id": "ba3a44b1-a1de-4d0d-814c-d7376bca987f",
   "metadata": {},
   "source": [
    "`https://vscode.dev/redirect?url=vscode://ms-vscode-remote.remote-containers/cloneInVolume?url=https://github.com/jeffkatzy/langchain`"
   ]
  },
  {
   "cell_type": "markdown",
   "id": "124a8326-4559-418b-9d5c-24ee6e642ea1",
   "metadata": {},
   "source": [
    "If you paste the code with your repo name into a browser, like Chrome or Mozilla, you should see your local version of VS code open up (so long as VScode is installed, and will see the codebase opened up in VSCode as well)."
   ]
  },
  {
   "cell_type": "markdown",
   "id": "b4395002-1f24-4744-a178-3db72112705f",
   "metadata": {},
   "source": [
    "### Next Steps"
   ]
  },
  {
   "cell_type": "markdown",
   "id": "8cf93ee6-e387-4c16-a68b-ecc2265d75bf",
   "metadata": {},
   "source": [
    "Once you paste the correct link into your browser, you should see a popup."
   ]
  },
  {
   "cell_type": "markdown",
   "id": "1f17e3f1-b7f5-4567-b3fc-80ade1362fb9",
   "metadata": {},
   "source": [
    "> <img src=\"./open-vs-code.png\" width=\"60%\">"
   ]
  },
  {
   "cell_type": "markdown",
   "id": "e36b49d2-e5a4-4beb-a20f-56d996c3424f",
   "metadata": {},
   "source": [
    "But there may be a problem."
   ]
  },
  {
   "cell_type": "markdown",
   "id": "42780fae-7a16-49bc-a288-cda11aa98563",
   "metadata": {},
   "source": [
    "The devcontainer won't work if Docker isn't running.  Devcontainer will try to start up Docker, but it may be too late."
   ]
  },
  {
   "cell_type": "markdown",
   "id": "d945c8a9-43ce-44d6-a375-bc15077fe35f",
   "metadata": {},
   "source": [
    "<img src=\"./daemon-running.png\" width=\"30%\">"
   ]
  },
  {
   "cell_type": "markdown",
   "id": "fc27408e-7c3e-4460-b381-a5a699d24077",
   "metadata": {},
   "source": [
    "But don't fret.  Just repaste the same link into your browser."
   ]
  },
  {
   "cell_type": "markdown",
   "id": "4be8ed8e-9a64-4e34-aa4b-43e90e327359",
   "metadata": {},
   "source": [
    "<img src=\"./langchain-codebase.png\" width=\"60%\">"
   ]
  },
  {
   "cell_type": "markdown",
   "id": "e8bc3fb4-87ad-4706-86de-559640eedf3e",
   "metadata": {},
   "source": [
    "While it looks like all that occurred is that we opened up our codebase, really this codebase is running inside of a docker container.  If you type in `docker ps` in your terminal (not in VS code), you may be able to see this."
   ]
  },
  {
   "cell_type": "markdown",
   "id": "cedacaf2-69c1-41be-b9d1-60f67ca28904",
   "metadata": {},
   "source": [
    "<img src=\"./docker-ps.png\" width=\"100%\">"
   ]
  },
  {
   "cell_type": "markdown",
   "id": "5cceb465-c848-4156-b49e-18a1a6c9ae18",
   "metadata": {},
   "source": [
    "### More setup"
   ]
  },
  {
   "cell_type": "markdown",
   "id": "586bb7bf-af5c-4bb6-ae91-466b102873a5",
   "metadata": {},
   "source": [
    "Ok, once you have VS code and the local codebase, you still have more work to do.  Go back to the [contributing code](https://python.langchain.com/docs/contributing/code/) document.  We need to read the following:"
   ]
  },
  {
   "cell_type": "markdown",
   "id": "333c5c2d-69a2-4ac7-a899-aeaca5f643c5",
   "metadata": {},
   "source": [
    "> <img src=\"./packages.png\">"
   ]
  },
  {
   "cell_type": "markdown",
   "id": "93e45cfb-0910-48a3-8dc4-bba4db35b2c6",
   "metadata": {},
   "source": [
    "Ok, so it says that the codebase is organized by different packages.  And we can see these if we open up the `libs` folder."
   ]
  },
  {
   "cell_type": "markdown",
   "id": "1d92d0d2-4077-46f6-b609-c33e635f3c66",
   "metadata": {},
   "source": [
    "<img src=\"./libs-code.png\" width=\"20%\">"
   ]
  },
  {
   "cell_type": "markdown",
   "id": "68bbfa3b-0af8-4bd4-b4a2-bdc2459b7e6c",
   "metadata": {},
   "source": [
    "Each package has it's own environmental setup.  Let's see an example of this by expanding the `libs/community` code."
   ]
  },
  {
   "cell_type": "markdown",
   "id": "ecfb77d6-2624-4236-9a65-17c58289aaba",
   "metadata": {},
   "source": [
    "<img src=\"./community-make.png\" width=\"20%\">"
   ]
  },
  {
   "cell_type": "markdown",
   "id": "fa999a8d-a7d2-4fd5-b470-be9237852df4",
   "metadata": {},
   "source": [
    "The main environmental setup components here are the `Makefile` and the `poetry.lock` and `pyproject.toml` files.\n",
    "\n",
    "And if we keep reading the readme it tells us what to do next."
   ]
  },
  {
   "cell_type": "markdown",
   "id": "e832125a-7e88-4d5e-a0ff-881384cb180e",
   "metadata": {},
   "source": [
    "> <img src=\"./local-libs.png\" width=\"60%\">"
   ]
  },
  {
   "cell_type": "markdown",
   "id": "de29721e-45c5-4159-a8d0-a3b581cb7dff",
   "metadata": {},
   "source": [
    "> Ensure you are in the correct folder `libs/community` before running either of those lines."
   ]
  },
  {
   "cell_type": "markdown",
   "id": "10f18b58-1977-447f-8bf3-90a4c80ca8b1",
   "metadata": {},
   "source": [
    "Then run those lines:\n",
    "    \n",
    "* `poetry install --with lint,typing,test,test_integration`\n",
    "* `make test`"
   ]
  },
  {
   "cell_type": "markdown",
   "id": "e1a114ab-0561-4bc7-9213-008eed430449",
   "metadata": {},
   "source": [
    "<img src=\"./correct-folder.png\" width=\"90%\">"
   ]
  },
  {
   "cell_type": "markdown",
   "id": "718b73fc-34fb-4725-b4b4-7b625219ce14",
   "metadata": {},
   "source": [
    "> Potential error"
   ]
  },
  {
   "cell_type": "markdown",
   "id": "4a892681-52ce-42e7-8c6f-f060b281c6b9",
   "metadata": {},
   "source": [
    "If you get an error that says `no module rapidfuzz`, then try to solve this as if it were any other python codebase.  That is, run the following:"
   ]
  },
  {
   "cell_type": "markdown",
   "id": "f6911883-7837-4fd5-9a93-be4af3c9c8ed",
   "metadata": {},
   "source": [
    "`pip3 install rapidfuzz`"
   ]
  },
  {
   "cell_type": "markdown",
   "id": "57257714-8f42-4191-8a79-597c8908999a",
   "metadata": {},
   "source": [
    "> You may also have to install `requests-toolbelt`."
   ]
  },
  {
   "cell_type": "markdown",
   "id": "a0792dbb-18ef-4b50-952b-563c4f169c96",
   "metadata": {},
   "source": [
    "`pip3 install requests-toolbelt`"
   ]
  },
  {
   "cell_type": "markdown",
   "id": "5ba90f97-bb0e-4392-9398-17fb1ecb661f",
   "metadata": {},
   "source": [
    "Then run `make test` again."
   ]
  },
  {
   "cell_type": "markdown",
   "id": "22c41462-5058-433e-995f-2f80c2e1fcba",
   "metadata": {},
   "source": [
    "### Wrapping up"
   ]
  },
  {
   "cell_type": "markdown",
   "id": "2f12f3b4-087c-4031-97af-5377dc40bf66",
   "metadata": {},
   "source": [
    "* Debugging\n",
    "\n",
    "If you encounter other issues, remember that [the documentation](https://python.langchain.com/docs/contributing/code/) does cover some setup issues.  In addition, you can google any error messages you see -- and try adding the word `langchain` to your error message.\n",
    "\n",
    "* Reading the makefile"
   ]
  },
  {
   "cell_type": "markdown",
   "id": "c5ddb35f-0178-44b6-a47b-212f270cc3b1",
   "metadata": {},
   "source": [
    "It's a good idea to actually understand this `Makefile`.  If you look at the Makefile you'll see something like the following:\n",
    "\n",
    "```bash\n",
    "test tests integration_tests:\n",
    "\tpoetry run pytest $(TEST_FILE)\n",
    "```"
   ]
  },
  {
   "cell_type": "markdown",
   "id": "536830bd-107c-4cab-a49b-87d085b20177",
   "metadata": {},
   "source": [
    "So this is saying that the `test` command really runs `poetry run pytest`, which then kicks off the tests."
   ]
  },
  {
   "cell_type": "markdown",
   "id": "498ef44c-c832-4aee-863d-9f815bd7f1d4",
   "metadata": {},
   "source": [
    "* Looking at the `.devcontainer` file\n",
    "\n",
    "You may also want to look at the .devcontainer.json file, which is [here](https://github.com/langchain-ai/langchain/blob/master/.devcontainer/devcontainer.json).  There, you can see the configuration that sets up the development environment.  And you can also see the [docker-compose](https://github.com/langchain-ai/langchain/blob/master/.devcontainer/docker-compose.yaml) file that it points to.\n",
    "\n"
   ]
  },
  {
   "cell_type": "markdown",
   "id": "75db6cf1-023d-4c55-bfcb-461292000bd5",
   "metadata": {},
   "source": [
    "### Summary"
   ]
  },
  {
   "cell_type": "markdown",
   "id": "5ccf0f3d-c8cb-4e35-8a47-9875bdbba899",
   "metadata": {},
   "source": [
    "In this lesson, we saw how we can set up our langchain development environment.  One thing to note when you move through the environmental setup is that **everything is just code**.  So if there's an error, you can still google the error, try your debugging skills, read the error message, and dig around in the codebase."
   ]
  },
  {
   "cell_type": "markdown",
   "id": "92676dcc-54a3-4c06-80d1-bd530661932e",
   "metadata": {},
   "source": [
    "We saw some key parts of the environmental setup which is the [here](https://github.com/langchain-ai/langchain/blob/master/.devcontainer/devcontainer.json) file.  And then we also explored the `Makefile`."
   ]
  }
 ],
 "metadata": {
  "kernelspec": {
   "display_name": "Python 3 (ipykernel)",
   "language": "python",
   "name": "python3"
  },
  "language_info": {
   "codemirror_mode": {
    "name": "ipython",
    "version": 3
   },
   "file_extension": ".py",
   "mimetype": "text/x-python",
   "name": "python",
   "nbconvert_exporter": "python",
   "pygments_lexer": "ipython3",
   "version": "3.10.14"
  }
 },
 "nbformat": 4,
 "nbformat_minor": 5
}
