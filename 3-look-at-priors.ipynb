{
 "cells": [
  {
   "cell_type": "markdown",
   "id": "4da4125f-3618-493e-ad73-c4c47be6e99b",
   "metadata": {},
   "source": [
    "# Introducing an Issue - Look at Priors"
   ]
  },
  {
   "cell_type": "markdown",
   "id": "8e1683e0-ca08-4ecc-8b7b-cc6119b99f50",
   "metadata": {},
   "source": [
    "### Introduction"
   ]
  },
  {
   "cell_type": "markdown",
   "id": "12ae9e29-24dd-408d-8445-64c1619d9e9c",
   "metadata": {},
   "source": [
    "In this lesson, we'll look at an issue that we'll spend several lessons working to fix.  Let's get started."
   ]
  },
  {
   "cell_type": "markdown",
   "id": "56ac6186-96b6-4499-aa29-fb764ee932b7",
   "metadata": {},
   "source": [
    "### Our issue"
   ]
  },
  {
   "cell_type": "markdown",
   "id": "de1f5cd1-d117-44e7-9914-465056fdf3a0",
   "metadata": {},
   "source": [
    "You can see the issue that we'll be working through [here](https://github.com/langchain-ai/langchain/issues/20085).  The crux cf the issue comes in the first couple of lines:"
   ]
  },
  {
   "cell_type": "markdown",
   "id": "17627be8-f819-400e-af31-686019d136c7",
   "metadata": {},
   "source": [
    "> There's some discrepancies in the init args different models use to set the same params. It'd be a much nicer UX if common params could be set with a common set of init args:\n",
    "\n",
    "\n",
    "Then it specifies the arguments that it would prefer:\n",
    "\n",
    "```\n",
    "model: str  # model name\n",
    "api_key: str  # api key\n",
    "temperature: float  # temperature sampling\n",
    "timeout: ...  # request timeout\n",
    "max_tokens: int  # max tokens\n",
    "stop_sequences: ...  # stop sequences\n",
    "max_retries: int  # max num retries\n",
    "```"
   ]
  },
  {
   "cell_type": "markdown",
   "id": "7a451b6b-5c67-45bc-ac10-b052390ad5cf",
   "metadata": {},
   "source": [
    "So essentially, langchain connects to different LLMs and external libraries.  But the way it connects to outside libraries is not consistent.  The author of the issue asked to update langchain's interface to the libraries so that they are more consistent.\n",
    "\n",
    "* Why it's good\n",
    "\n",
    "There are multiple reasons why this is a good first issue.  First, the complexity seems fairly low.  Remember, our task is to make the api consistent, so our changes may be more on the surface level.  Second, there are actually examples of other pull requests related to this issue.  This is because we need to perform this fix on multiple libraries, and some contributors have already gotten started."
   ]
  },
  {
   "cell_type": "markdown",
   "id": "e4bc3889-4c1c-433c-8a5a-ed9338c28a38",
   "metadata": {},
   "source": [
    "### Viewing related commits"
   ]
  },
  {
   "cell_type": "markdown",
   "id": "9080cb38-c8c9-4458-8977-6eaa0ec9b3b6",
   "metadata": {},
   "source": [
    "At this point, we can take a look at some of the commits that have already been made to solve this issue."
   ]
  },
  {
   "cell_type": "markdown",
   "id": "ce04738a-87c7-41b7-a689-7d4b8ec30d2e",
   "metadata": {},
   "source": [
    "> <img src=\"./merge-commits.png\" width=\"60%\">"
   ]
  },
  {
   "cell_type": "markdown",
   "id": "5f70c7e1-0bf6-4e30-b9ff-c24153fd959e",
   "metadata": {},
   "source": [
    "We should really click open each of these pull requests in a new tab (with `cmd + click`).  Let's zoom in on the second one, about sparkllm [here](https://github.com/langchain-ai/langchain/pull/20194).  And from there, we can see the files that were changed by clicking on the tab to the right."
   ]
  },
  {
   "cell_type": "markdown",
   "id": "c04aa88f-ed4e-4750-8a77-75a67983d3ed",
   "metadata": {},
   "source": [
    "> Take a look at the code changes on the right."
   ]
  },
  {
   "cell_type": "markdown",
   "id": "c4643434-eccf-4296-93e5-97c79dbc7a2f",
   "metadata": {},
   "source": [
    "<img src=\"./changes-made.png\" width=\"100%\">"
   ]
  },
  {
   "cell_type": "markdown",
   "id": "08a5e288-1df0-41de-af89-abb2f9afb986",
   "metadata": {},
   "source": [
    "Ok, so if you look at this page, you can see that we clicked on the tab [Files changed](https://github.com/langchain-ai/langchain/pull/20194/files).  And then over to the left, we can see which files were changed.  It identifies the `sparkllm.py` and `test_sparkllm.py` files as the two that were changed."
   ]
  },
  {
   "cell_type": "markdown",
   "id": "5c118443-f310-4d10-916f-cda2aa7b6da2",
   "metadata": {},
   "source": [
    "Then at the top, we see the before and after with the `sparkllm.py` file.  So the red indicates that:\n",
    "\n",
    "* `request_timeout: int = 30`, was deleted, and\n",
    "* `request_timeout: int Field(30, alias=\"timeout\")` was added."
   ]
  },
  {
   "cell_type": "markdown",
   "id": "0a806fde-3ed5-4082-aa83-8e8816732ff1",
   "metadata": {},
   "source": [
    "And remember, our issue was to standardize the init arguments, including: \n",
    "\n",
    "```\n",
    "timeout: ...  # request timeout\n",
    "```"
   ]
  },
  {
   "cell_type": "markdown",
   "id": "bc0ef4a4-71a5-4f72-a36e-c258634d3df6",
   "metadata": {},
   "source": [
    "So above, the author is saying passing in `request_timeout` should also set an attribute of `timeout`."
   ]
  },
  {
   "cell_type": "markdown",
   "id": "e08ddd36-4961-481e-9a0b-e7a6e4270724",
   "metadata": {},
   "source": [
    "### Reading the test"
   ]
  },
  {
   "cell_type": "markdown",
   "id": "3b79c055-edde-49e4-8399-1bbef3e309dc",
   "metadata": {},
   "source": [
    "For this pull request, there were two files changed.  So one of them was code changes in `chat_models/spark_llm.py` and to go along with this is the `test_sparkllm.py` file. "
   ]
  },
  {
   "cell_type": "markdown",
   "id": "c86494ef-6736-4356-877b-5bc446ed4092",
   "metadata": {},
   "source": [
    "> Take a moment to look at the code changes on the right."
   ]
  },
  {
   "cell_type": "markdown",
   "id": "170a4875-6e3a-40db-ae0b-3eb328e260c7",
   "metadata": {},
   "source": [
    "<img src=\"./show-test.png\" width=\"90%\">"
   ]
  },
  {
   "cell_type": "markdown",
   "id": "1868bcee-3679-49c7-bc3d-b1adde77f2da",
   "metadata": {},
   "source": [
    "The tests are critical to understanding the code changes, because tests are documentation.  They show us the impact of the contributor's changes.\n",
    "\n",
    "Above, for example, we can see that now we can initialize the `ChatSparkLLM` model with both the `timeout` and the `request_timeout` parameters.  And in both cases, that `request_timeout` and `timeout` both set the `request_timeout` attribute.  You can see that with `assert model.request_timeout == 30`.  \n",
    "\n",
    "So now we can better understand the changes made, and how they fixed the issue."
   ]
  },
  {
   "cell_type": "markdown",
   "id": "f78e8a54-26cc-4ce8-b934-0d67e422498d",
   "metadata": {},
   "source": [
    "> **Is that it??** Yes, we should do more research into what `Field`, and `alias` accomplish, and also take a deeper look through the sparkllm file to better understand the change.  But for now, the point is to get an understanding of what we'll need to do, and to see how we can use previous commits to learn about our fix. "
   ]
  },
  {
   "cell_type": "markdown",
   "id": "cce56bf8-ed65-4335-a9da-d4c29ee3ef95",
   "metadata": {},
   "source": [
    "### Look at Priors"
   ]
  },
  {
   "cell_type": "markdown",
   "id": "22624830-7848-4062-8cb9-5b809dd9c22c",
   "metadata": {},
   "source": [
    "Going forward, we'll take a deeper look at the changes made.  But for now, hopefully you can see the benefits of looking at similar merge commits, and how to read the code.\n",
    "\n",
    "Now, it may seem like finding similar merge commits is something we can only do with this issue, but really we can do this with any issue.  For example, let's take a look at our issue from the previous lesson.\n",
    "\n",
    "<img src=\"./issue-vetting.png\">"
   ]
  },
  {
   "cell_type": "markdown",
   "id": "02a42db3-b811-4996-b3c7-53f21f37365a",
   "metadata": {},
   "source": [
    "In addition to reading the discussion that follows, we can also look to see if there were similar issues.  We can see similar issues, and the related fixes by going to pull requests and seeing if other contributors fixed bugs with a `from_texts` message.\n",
    "\n",
    "Click [here](https://github.com/langchain-ai/langchain/pulls?q=is%3Apr+is%3Aclosed+from_texts)."
   ]
  },
  {
   "cell_type": "markdown",
   "id": "e16091a8-d7b8-46b0-a452-ceb1241373b6",
   "metadata": {},
   "source": [
    "<img src=\"./from-texts.png\">"
   ]
  },
  {
   "cell_type": "markdown",
   "id": "9b71f315-92b9-4b6b-822a-5dabd0a90878",
   "metadata": {},
   "source": [
    "So above, we are clicking on pull requests, changing the label to `closed` and then performing a search.  Above, we search for issues relating to `from_texts`.  We should probably click through many of these commits to better understand how the method works, and see if someone already solved a similar issue."
   ]
  },
  {
   "cell_type": "markdown",
   "id": "d235b2b0-a738-498e-9dfe-b2883b284fc1",
   "metadata": {},
   "source": [
    "Even if the previous pull requests do not tell us exactly how to solve our issue, they likely will tell us a bit more about how `from_texts` works."
   ]
  },
  {
   "cell_type": "markdown",
   "id": "26002f2f-3123-4484-aadb-8b6eee91f22f",
   "metadata": {},
   "source": [
    "### Summary"
   ]
  },
  {
   "cell_type": "markdown",
   "id": "7efa8ea5-8b43-403e-a83b-c63b03b9158c",
   "metadata": {},
   "source": [
    "In this lesson, we talked about the importance of looking at similar commits to help you going forward.  Sometimes you can see related commits directly in the issue.  But more often, you may have to search through closed pull requests for a related issue to find something helpful."
   ]
  },
  {
   "cell_type": "markdown",
   "id": "742c7d20-07bd-4cac-9ed8-becba7e5dfd1",
   "metadata": {},
   "source": [
    "<img src=\"./from-texts.png\">"
   ]
  },
  {
   "cell_type": "markdown",
   "id": "169c2ff8-a9c6-48e5-b38a-b94ef0c6ecc0",
   "metadata": {},
   "source": [
    "Once we clicked through those issues, we then practiced reading the commits.  Remember, that in doing so, you want to relate the code changes to the raised issue.  And also read through the tests to see the impact of the change."
   ]
  },
  {
   "cell_type": "markdown",
   "id": "ef704fb7-e69b-4a11-92fb-d2cd012f7808",
   "metadata": {},
   "source": [
    "<img src=\"./show-test.png\" width=\"90%\">"
   ]
  }
 ],
 "metadata": {
  "kernelspec": {
   "display_name": "Python 3 (ipykernel)",
   "language": "python",
   "name": "python3"
  },
  "language_info": {
   "codemirror_mode": {
    "name": "ipython",
    "version": 3
   },
   "file_extension": ".py",
   "mimetype": "text/x-python",
   "name": "python",
   "nbconvert_exporter": "python",
   "pygments_lexer": "ipython3",
   "version": "3.10.14"
  }
 },
 "nbformat": 4,
 "nbformat_minor": 5
}
