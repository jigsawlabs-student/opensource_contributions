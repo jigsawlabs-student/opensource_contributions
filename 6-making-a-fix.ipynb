{
 "cells": [
  {
   "cell_type": "markdown",
   "id": "56e188b8-f101-4b5b-8ab5-8a57ce052478",
   "metadata": {},
   "source": [
    "# Making a Fix"
   ]
  },
  {
   "cell_type": "markdown",
   "id": "95bd1767-88e3-49e7-a862-8fe58cda8db3",
   "metadata": {},
   "source": [
    "### Introduction"
   ]
  },
  {
   "cell_type": "markdown",
   "id": "f9908008-6b6e-4b71-a4da-7c135b341a12",
   "metadata": {},
   "source": [
    "In the last lesson, we identified our task of making a fix of standardizing the init arguments, as specifically laid out in [this issue](https://github.com/langchain-ai/langchain/issues/20085).  And specifically to work on updating Langchain's interface with the perplexity library.  \n",
    "\n",
    "We ended by opening the following files:\n",
    "\n",
    "* `libs/community/tests/unit_tests/chat_models/test_perplexity.py`\n",
    "* `libs/community/langchain_community/chat_models/perplexity.py`\n",
    "\n",
    "\n",
    "<img src=\"./test-perplexity.png\" width=\"60%\">\n",
    "\n",
    "And then running the tests with the following:\n",
    "\n",
    "```bash\n",
    "poetry run pytest tests/unit_tests/chat_models/test_perplexity.py\n",
    "```"
   ]
  },
  {
   "cell_type": "markdown",
   "id": "c238dcd3-7057-4de6-9a41-dbb7a5355456",
   "metadata": {},
   "source": [
    "We also specified that we could use the [Baidu pull request](https://github.com/langchain-ai/langchain/pull/20163/files) and the [Mistral pull request](https://github.com/langchain-ai/langchain/pull/20163/files) as examples to guide us.  \n",
    "\n",
    "Ok, let's get started."
   ]
  },
  {
   "cell_type": "markdown",
   "id": "cc685ec4-62fb-404b-b8c6-02c5b5a86828",
   "metadata": {},
   "source": [
    "### Making a Change"
   ]
  },
  {
   "cell_type": "markdown",
   "id": "fc56b019-bb81-45de-913c-ff8be09e17c1",
   "metadata": {},
   "source": [
    "Ok, so let's begin by opening up the `libs/community/langchain_community/chat_models/perplexity.py` file."
   ]
  },
  {
   "cell_type": "markdown",
   "id": "19414738-227f-4986-8e1d-949b4e7c1daf",
   "metadata": {},
   "source": [
    "```python\n",
    "class ChatPerplexity(BaseChatModel):\n",
    "    client: Any  #: :meta private:\n",
    "    model: str = \"pplx-70b-online\"\n",
    "\n",
    "    temperature: float = 0.7\n",
    "\n",
    "    model_kwargs: Dict[str, Any] = Field(default_factory=dict)\n",
    "\n",
    "    pplx_api_key: Optional[str] = None\n",
    "\n",
    "    request_timeout: Optional[Union[float, Tuple[float, float]]] = None\n",
    "\n",
    "    max_retries: int = 6\n",
    "\n",
    "    streaming: bool = False\n",
    "\n",
    "    max_tokens: Optional[int] = None\n",
    "```"
   ]
  },
  {
   "cell_type": "markdown",
   "id": "3be8ecdd-7792-40eb-9b67-0309204e06ac",
   "metadata": {},
   "source": [
    "And we identified the following as the init arguments we want implemented:\n",
    "    \n",
    "```\n",
    "api_key: str  # api key\n",
    "timeout: ...  # request timeout\n",
    "```\n",
    "\n",
    "So this means making changes for `pplx_api_key` and `request_timeout`.  But how?  If you look at the mistral codebase, you can see a similar example."
   ]
  },
  {
   "cell_type": "markdown",
   "id": "88437ab7-5327-41a3-a9e7-f8a40177e3af",
   "metadata": {},
   "source": [
    "<img src=\"./mistral_change.png\">"
   ]
  },
  {
   "cell_type": "markdown",
   "id": "b71b02d8-3e75-4651-a561-7c23f87dd80a",
   "metadata": {},
   "source": [
    "So here, the update is to use the Field constructor, setting a default value and an alias.  \n",
    "\n",
    "What is Field?  Let's look. Go to the `langchain_mistralai/chat_models.py` file and see where it comes from."
   ]
  },
  {
   "cell_type": "markdown",
   "id": "a0f61137-49c0-423f-80bd-e7be97ea5718",
   "metadata": {},
   "source": [
    "> So below, after going to the `langchain_mistralai/chat_models.py` file, we then press `cmd + F` to look for the word `Field`."
   ]
  },
  {
   "cell_type": "markdown",
   "id": "f2b9c3f5-3c21-422c-a44b-5a45aa045d71",
   "metadata": {},
   "source": [
    "<img src=\"./field_attr.png\" width=\"60%\">"
   ]
  },
  {
   "cell_type": "markdown",
   "id": "0104ad96-ac4a-4703-a948-14d325991eda",
   "metadata": {},
   "source": [
    "We can see that it comes from `pydantic_v1`.  At this point, you have heard that pydantic is a Python library.  So to learn about `Field` we can good `pydantic Field` and see what it does.\n",
    "\n",
    "The google search should point you to the relevant documentation.  Read it over here [documentation here](https://docs.pydantic.dev/latest/concepts/fields/#default-values).  And we can learn about aliases [here](https://docs.pydantic.dev/latest/concepts/fields/#field-aliases)."
   ]
  },
  {
   "cell_type": "markdown",
   "id": "6d0e9e57-cbcf-44dd-b93f-332605a2c7e8",
   "metadata": {},
   "source": [
    "> <img src=\"./field-alias.png\" width=\"60%\">"
   ]
  },
  {
   "cell_type": "markdown",
   "id": "aa6afa43-072f-4306-b853-c8821cba8cfc",
   "metadata": {},
   "source": [
    "So you can see above that by using an alias when someone sets `User(username='johndoe')`, it also updates the `User#name` attribute to `johndoe`.  And this is essentially what's shown with Mistral.\n",
    "\n",
    "<img src=\"./mistral_change.png\">"
   ]
  },
  {
   "cell_type": "markdown",
   "id": "a5127daf-c564-4f4b-8b8e-31cfbb30412f",
   "metadata": {},
   "source": [
    "Here, adding `Field(default=None, alias=api_key` likely means that when someone sets `mistral_api_key` it also sets the api key.  And we can confirm this if we look at the test."
   ]
  },
  {
   "cell_type": "markdown",
   "id": "6fdad657-8019-4c85-b2ff-0192d7eb2024",
   "metadata": {},
   "source": [
    "<img src=\"./chatmodel-update.png\" width=\"70%\">"
   ]
  },
  {
   "cell_type": "markdown",
   "id": "921261e1-c2d7-4b77-a613-8da6f77e6ab3",
   "metadata": {},
   "source": [
    "So in the test on the right, we can see that passing the `api_key='test'` also sets the `mistral_api_key` value.\n",
    "\n",
    "So let's see if we can do something similar here."
   ]
  },
  {
   "cell_type": "markdown",
   "id": "ac14855a-ac31-4566-9525-1cac2a99d687",
   "metadata": {},
   "source": [
    "### Applying the change"
   ]
  },
  {
   "cell_type": "markdown",
   "id": "d0e8cf8f-9be9-4a83-b138-f400c37f4324",
   "metadata": {},
   "source": [
    "So now let's update the `libs/community/langchain_community/chat_models/perplexity.py` file.  Remember, we want to update the model so that it has the following fields:\n",
    "\n",
    "```python\n",
    "api_key: str  # api key\n",
    "timeout: ...  # request timeout\n",
    "```"
   ]
  },
  {
   "cell_type": "markdown",
   "id": "19307d3d-deda-4b29-8042-e308c20e716f",
   "metadata": {},
   "source": [
    "I made the following changes.\n",
    "```python\n",
    "\n",
    "pplx_api_key: Optional[str] = Field(default=None, alias=\"api_key\")\n",
    "\n",
    "request_timeout: Optional[Union[float, Tuple[float, float]]] = Field(default=None, alias=\"timeout\")\n",
    "```"
   ]
  },
  {
   "cell_type": "markdown",
   "id": "a2b60265-620e-486c-98e7-af716c7b5269",
   "metadata": {},
   "source": [
    "So essentially, we added aliases to `pplx_api_key` and `request_timeout`.\n",
    "\n",
    "Next up is to add the corresponding test.  Open up the `tests/unit_tests/chat_models/test_perplexity.py` file.  Now again, you may want to look at the analogous test in mistral.  So open up `libs/partners/mistralai/tests/unit_tests/test_chat_models.py`.\n",
    "\n",
    "There you'll see the following relevant component.\n",
    "\n",
    "```python\n",
    "def test_mistralai_initialization() -> None:\n",
    "    \"\"\"Test ChatMistralAI initialization.\"\"\"\n",
    "    # Verify that ChatMistralAI can be initialized using a secret key provided\n",
    "    # as a parameter rather than an environment variable.\n",
    "    for model in [\n",
    "        ChatMistralAI(model=\"test\", mistral_api_key=\"test\"),\n",
    "        ChatMistralAI(model=\"test\", api_key=\"test\"),\n",
    "    ]:\n",
    "        assert cast(SecretStr, model.mistral_api_key).get_secret_value() == \"test\"\n",
    "```"
   ]
  },
  {
   "cell_type": "markdown",
   "id": "c194fc8b-b59e-4cb8-8657-8c5e5171570b",
   "metadata": {},
   "source": [
    "And in the `test_perplexity.py` file, we have something similar.\n",
    "\n",
    "```python\n",
    "@pytest.mark.requires(\"openai\")\n",
    "def test_perplexity_initialization() -> None:\n",
    "    \"\"\"Test perplexity initialization.\"\"\"\n",
    "    # Verify that chat perplexity can be initialized using a secret key provided\n",
    "    # as a parameter rather than an environment variable.\n",
    "    ChatPerplexity(\n",
    "        model=\"test\", perplexity_api_key=\"test\", temperature=0.7, verbose=True\n",
    "    )\n",
    "```"
   ]
  },
  {
   "cell_type": "markdown",
   "id": "c673cf65-f405-474b-84a7-ea41c72110e9",
   "metadata": {},
   "source": [
    "So we can update this to the following:\n",
    "```python\n",
    "@pytest.mark.requires(\"openai\")\n",
    "def test_perplexity_initialization() -> None:\n",
    "    \"\"\"Test perplexity initialization.\"\"\"\n",
    "    # Verify that chat perplexity can be initialized using a secret key provided\n",
    "    # as a parameter rather than an environment variable.\n",
    "for model in [\n",
    "        ChatPerplexity(\n",
    "            model=\"test\", timeout=1, api_key=\"test\", temperature=0.7, verbose=True\n",
    "        ),\n",
    "        ChatPerplexity(\n",
    "            model=\"test\",\n",
    "            request_timeout=1,\n",
    "            pplx_api_key=\"test\",\n",
    "            temperature=0.7,\n",
    "            verbose=True,\n",
    "        ),\n",
    "    ]:\n",
    "        assert model.request_timeout == 1\n",
    "        assert model.pplx_api_key == \"test\"\n",
    "```"
   ]
  },
  {
   "cell_type": "markdown",
   "id": "63ae1cb3-8062-4028-94b3-9f5cf8e870c7",
   "metadata": {},
   "source": [
    "So this follows the same pattern.  The first model uses our aliases, and the second one uses the original init arguments.  Then in our assertions we confirm that initializing with the aliases still sets the same original attributies of `request_timeout` and `pplx_api_key`.  "
   ]
  },
  {
   "cell_type": "markdown",
   "id": "caa6ea13-2945-4ae8-a1a3-c3b895ed6dd6",
   "metadata": {},
   "source": [
    "Finally we should run our tests and confirm that our tests still pass."
   ]
  },
  {
   "cell_type": "markdown",
   "id": "3602b542-f131-4aa8-8bf0-2f7c7abebbbb",
   "metadata": {},
   "source": [
    "```bash\n",
    "poetry run pytest tests/unit_tests/chat_models/test_perplexity.py\n",
    "```"
   ]
  },
  {
   "cell_type": "markdown",
   "id": "7f1b5354-0b27-44fb-9975-aff395ddb8c0",
   "metadata": {},
   "source": [
    "* One last thing\n",
    "\n",
    "We did not exactly pursue a test driven approach here.  That is, ideally we could have updated the `test_perplexity.py` file before changing the code in `perplexity.py`.  One danger in not doing that we did not see the before and after of our fix.  \n",
    "\n",
    "That is, ideally we want to see that it is only because of our changes that the code worked.  So to do this, we can go back to the perplexity.py file and comment out our changes.\n",
    "\n",
    "```python\n",
    "# pplx_api_key: Optional[str] = Field(default=None, alias=\"api_key\")\n",
    "    pplx_api_key: Optional[str] = None\n",
    "    \"\"\"Base URL path for API requests, \n",
    "    leave blank if not using a proxy or service emulator.\"\"\"\n",
    "    request_timeout: Optional[Union[float, Tuple[float, float]]] = None\n",
    "    # request_timeout: Optional[Union[float, Tuple[float, float]]] = Field(default=None, alias=\"timeout\")\n",
    "```"
   ]
  },
  {
   "cell_type": "markdown",
   "id": "c9c85da9-8bcc-41b8-8eb1-3f71627a7f8a",
   "metadata": {},
   "source": [
    "And then we can run pytest.  And this time see the test fail."
   ]
  },
  {
   "cell_type": "markdown",
   "id": "5cd6cbc7-85aa-410a-bd55-d3a0f1ce0269",
   "metadata": {},
   "source": [
    "`poetry run pytest tests/unit_tests/chat_models/test_perplexity.py`"
   ]
  },
  {
   "cell_type": "markdown",
   "id": "24c41aca-1e1b-475b-9356-8a1b4ceb4047",
   "metadata": {},
   "source": [
    "<img src=\"./failure.png\">"
   ]
  },
  {
   "cell_type": "markdown",
   "id": "61bd4f31-e2e8-48e1-aeec-e7a2322d6078",
   "metadata": {},
   "source": [
    "And then reimplement the fix to confirm that, because of our changes, it passes."
   ]
  },
  {
   "cell_type": "markdown",
   "id": "ee130800-60b9-4fe9-92ba-8da82760e84a",
   "metadata": {},
   "source": [
    "<img src=\"./passing.png\">"
   ]
  },
  {
   "cell_type": "markdown",
   "id": "42ffc368-a2aa-40de-af41-77f8e5df6657",
   "metadata": {},
   "source": [
    "Now that this one file works, it's good to confirm we did not somehow break a different part of the codebase.  So now from the `/workspaces/langchain/libs/community`, run:\n",
    "\n",
    "`make tests`"
   ]
  },
  {
   "cell_type": "markdown",
   "id": "70dda153-a918-403f-9226-503b1ffd4d6c",
   "metadata": {},
   "source": [
    "You should still see all of our tests passing."
   ]
  },
  {
   "cell_type": "markdown",
   "id": "881eddeb-f803-415f-bb50-5fd5e51b9a0a",
   "metadata": {},
   "source": [
    "### Is that it?"
   ]
  },
  {
   "cell_type": "markdown",
   "id": "967af85d-edf8-4789-a75b-7ae50c6bb06d",
   "metadata": {},
   "source": [
    "Finally, before thinking we are done it's a good idea to check to see if there are other changes we should make.  So to do that, we can first look to see if there are other perplexity files we should change."
   ]
  },
  {
   "cell_type": "markdown",
   "id": "c73c5916-16ae-48f7-b573-3121798cf488",
   "metadata": {},
   "source": [
    "<img src=\"./perplexity-files.png\">"
   ]
  },
  {
   "cell_type": "markdown",
   "id": "6f2c0fff-76f9-4eb6-aa66-d8f78b54c4cc",
   "metadata": {},
   "source": [
    "So we can see there is a [perplexity.ipynb](https://github.com/jigsawlabs-student/langchain_chat_model/blob/master/docs/docs/integrations/chat/perplexity.ipynb) file that may need changes.  Essentially, we want to see if we need to now update the documentation because of our documentation.\n",
    "\n",
    "But if you read through it everything looks up to date."
   ]
  },
  {
   "cell_type": "markdown",
   "id": "f127cd7b-1fc6-4c84-bc84-20d77668fe48",
   "metadata": {},
   "source": [
    "It's also a good idea to check the changes made to the related pull requests to see if any of those changes apply here.  \n",
    "\n",
    "> For example, with [Mistral](https://github.com/langchain-ai/langchain/pull/20163/files), we can see that changes were made to the config class -- but we don't need to change that here."
   ]
  },
  {
   "cell_type": "markdown",
   "id": "b2d1bb9d-7dff-4f3f-af27-a48b589170e1",
   "metadata": {},
   "source": [
    "Ok, with that we are ready to make a commit.  But working with git can be a little tricky.  So let's save that for the next lesson."
   ]
  },
  {
   "cell_type": "markdown",
   "id": "1371f427-7aa2-43cb-963c-b7e17423dbbb",
   "metadata": {},
   "source": [
    "### Summary"
   ]
  },
  {
   "cell_type": "markdown",
   "id": "cf379531-dee8-4156-a44e-294fe42ca4ff",
   "metadata": {},
   "source": [
    "In this lesson, we updated both the `perplexity.py` file and our `test_perplexity.py` to accomplish our task.  Once again, we looked to similar pull requests to see how to make our changes.  But even if we did not have these pull requests, we could look for similar files or fixes to learn how to apply a change.  (Or we could just give it our best shot, and get some feedback from a maintainer).  \n",
    "\n",
    "We saw that when we were not sure about a specified component, like the `Field` constructor, we first searched the file with `cmd + f` to see where it was imported from, and this took us to googling for Field in the Pydantic library.  \n",
    "\n",
    "When making changes to our tests, we also looked for a analogous code to make sure our tests followed the codebases pattern.  Finally we confirmed that our passing tests were a direct result of our fix."
   ]
  }
 ],
 "metadata": {
  "kernelspec": {
   "display_name": "Python 3 (ipykernel)",
   "language": "python",
   "name": "python3"
  },
  "language_info": {
   "codemirror_mode": {
    "name": "ipython",
    "version": 3
   },
   "file_extension": ".py",
   "mimetype": "text/x-python",
   "name": "python",
   "nbconvert_exporter": "python",
   "pygments_lexer": "ipython3",
   "version": "3.10.14"
  }
 },
 "nbformat": 4,
 "nbformat_minor": 5
}
