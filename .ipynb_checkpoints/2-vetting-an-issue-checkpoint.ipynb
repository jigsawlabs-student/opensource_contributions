{
 "cells": [
  {
   "cell_type": "markdown",
   "id": "ce4eb9da-699c-4e03-a311-75d52ef3aeda",
   "metadata": {},
   "source": [
    "# Vetting an Issue"
   ]
  },
  {
   "cell_type": "markdown",
   "id": "b1997edb-fd7e-4298-a1ae-6ddc5d3621ac",
   "metadata": {},
   "source": [
    "### Introduction"
   ]
  },
  {
   "cell_type": "markdown",
   "id": "78c7472f-5567-4582-a250-2de15f5cb2ef",
   "metadata": {},
   "source": [
    "In this lesson, we can work through reading a github issue, and identifying what makes for a ripe issue to pick up.  \n",
    "\n",
    "Let's get started."
   ]
  },
  {
   "cell_type": "markdown",
   "id": "d02d553b-58f9-425b-add2-a06de130b2ae",
   "metadata": {},
   "source": [
    "### Taking a look"
   ]
  },
  {
   "cell_type": "markdown",
   "id": "71eca81a-1a66-4cd2-9368-3a9ad5892d35",
   "metadata": {},
   "source": [
    "Ok, so let's take a look at this [issue](https://github.com/langchain-ai/langchain/issues/20866)."
   ]
  },
  {
   "cell_type": "markdown",
   "id": "40b80181-bb20-476c-8f21-1bf8eaf9e69a",
   "metadata": {},
   "source": [
    "<img src=\"./issue-vetting.png\">"
   ]
  },
  {
   "cell_type": "markdown",
   "id": "dfea767e-0195-4209-ae98-2fd2bf14a923",
   "metadata": {},
   "source": [
    "If we look at the initial information, the issue seems promising.\n",
    "\n",
    "* Looking at the title\n",
    "\n",
    "First, just reading the title, the issue is clear and descriptive.  \"When using Chroma, vector stores newly created `from_texts()` do not delete previous documents.\"  One potential concern is that the issue may require setting up the `Chroma` database, and connecting it to langchain, but maybe not.  And it may not be too difficult.\n",
    "\n",
    "* Metadata\n",
    "\n",
    "Also, if you look to the right, we'll see:\n",
    "\n",
    "* Assignees: No one has been assigned this issue quite yet\n",
    "* `Chrispy-snps`: If you look at the issue submitter, we can see that he is a `contributor`.  This is a good sign that the issue is relevant."
   ]
  },
  {
   "cell_type": "markdown",
   "id": "be4d20ed-5170-4c04-8549-4e8822c86dad",
   "metadata": {},
   "source": [
    "### The setup"
   ]
  },
  {
   "cell_type": "markdown",
   "id": "fc6ec351-1af9-4860-8183-3ca55dcc78b8",
   "metadata": {},
   "source": [
    "Now another nice thing about this issue, is that the details and discussion that follows tells us how to get started."
   ]
  },
  {
   "cell_type": "markdown",
   "id": "228b9796-7cca-4a99-b1d1-c44db060c64e",
   "metadata": {},
   "source": [
    "1. Reproducing the issue"
   ]
  },
  {
   "cell_type": "markdown",
   "id": "8ac013c7-192b-4c80-b7c9-c7ad100c3e88",
   "metadata": {},
   "source": [
    "The first step in solving a problem is to **reproduce** it yourself.  This way you can get a better idea of what is going on, and also determine if your fix works.\n",
    "\n",
    "If we look in [the issue](https://github.com/langchain-ai/langchain/issues/20866), we can see that the author shows us how to reproduce the problem."
   ]
  },
  {
   "cell_type": "markdown",
   "id": "d3a4a263-3f04-498b-9747-6b55e3d363dd",
   "metadata": {},
   "source": [
    "> <img src=\"./with-faiss.png\" width=\"80%\">"
   ]
  },
  {
   "cell_type": "markdown",
   "id": "ecd11c7d-237f-442a-a330-b55110d4d482",
   "metadata": {},
   "source": [
    "> <img src=\"./when-chroma.png\" width=\"80%\">"
   ]
  },
  {
   "cell_type": "markdown",
   "id": "d8ab099a-659c-4551-a3b8-5cdc2d4594ab",
   "metadata": {},
   "source": [
    "So the issue's author spells out a scenario where it works properly (with the FAISS library) and where it works improperly (with Chroma)."
   ]
  },
  {
   "cell_type": "markdown",
   "id": "bd800c24-9106-4e17-88da-933d322758d6",
   "metadata": {},
   "source": [
    "2. A Potential Fix"
   ]
  },
  {
   "cell_type": "markdown",
   "id": "f5aedfa4-bb18-481e-b99e-f34f423b78b8",
   "metadata": {},
   "source": [
    "What's even better is that the conversation that follows discusses a potential way to proceed."
   ]
  },
  {
   "cell_type": "markdown",
   "id": "4df5ba74-8345-4784-a103-6bf7f2329fc3",
   "metadata": {},
   "source": [
    "> <img src=\"./potential-fix.png\" width=\"80%\">"
   ]
  },
  {
   "cell_type": "markdown",
   "id": "d77d7687-aa70-4141-9224-79673d8021eb",
   "metadata": {},
   "source": [
    "This doesn't mean that this discussion is correct.  More research is needed.  However, it's important to record each of the potential solutions laid out in the discussion.  These are good starting points for you to explore."
   ]
  },
  {
   "cell_type": "markdown",
   "id": "10a7a2e5-5f66-4f9a-869a-3df199f60d60",
   "metadata": {},
   "source": [
    "### Wrapping up"
   ]
  },
  {
   "cell_type": "markdown",
   "id": "254131f7-99f1-4878-9be8-683da169a0fe",
   "metadata": {},
   "source": [
    "Notice the various components that make this a potentially strong issue to pick up.\n",
    "\n",
    "1. The title of is something that like we can understand, and reproduce\n",
    "2. The author explains, in detail, how to reproduce the issue.  And explains the differing behavior with Chroma compared with other databases.\n",
    "3. The discussion that follows then suggests different solutions between both the author and other contributors.\n",
    "\n",
    "\n",
    "By contrast, one component that could complicate the issue is that it likely requires setting up Chroma, an external database.  "
   ]
  }
 ],
 "metadata": {
  "kernelspec": {
   "display_name": "Python 3 (ipykernel)",
   "language": "python",
   "name": "python3"
  },
  "language_info": {
   "codemirror_mode": {
    "name": "ipython",
    "version": 3
   },
   "file_extension": ".py",
   "mimetype": "text/x-python",
   "name": "python",
   "nbconvert_exporter": "python",
   "pygments_lexer": "ipython3",
   "version": "3.10.14"
  }
 },
 "nbformat": 4,
 "nbformat_minor": 5
}
