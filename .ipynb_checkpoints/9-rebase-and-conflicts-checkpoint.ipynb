{
 "cells": [
  {
   "cell_type": "markdown",
   "id": "0b35c278-4ad4-4d19-9f31-4fefdb63974c",
   "metadata": {},
   "source": [
    "# Rebasing and Merge Conflicts"
   ]
  },
  {
   "cell_type": "markdown",
   "id": "a715bcfc-f4fb-432f-81b9-d422c93354d4",
   "metadata": {},
   "source": [
    "### Introduction"
   ]
  },
  {
   "cell_type": "code",
   "execution_count": null,
   "id": "fffe87ff-d4e2-44a2-9849-e6c0c3f76459",
   "metadata": {},
   "outputs": [],
   "source": []
  }
 ],
 "metadata": {
  "kernelspec": {
   "display_name": "Python 3 (ipykernel)",
   "language": "python",
   "name": "python3"
  },
  "language_info": {
   "codemirror_mode": {
    "name": "ipython",
    "version": 3
   },
   "file_extension": ".py",
   "mimetype": "text/x-python",
   "name": "python",
   "nbconvert_exporter": "python",
   "pygments_lexer": "ipython3",
   "version": "3.10.14"
  }
 },
 "nbformat": 4,
 "nbformat_minor": 5
}
