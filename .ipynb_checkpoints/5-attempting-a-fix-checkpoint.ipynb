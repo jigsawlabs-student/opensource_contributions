{
 "cells": [
  {
   "cell_type": "markdown",
   "id": "411fa494-1e9e-4333-8963-f7996e9d0302",
   "metadata": {},
   "source": [
    "# Attempting a fix"
   ]
  },
  {
   "cell_type": "markdown",
   "id": "0b9d05a2-fbc0-4025-afa0-45d2fbb7d429",
   "metadata": {},
   "source": [
    "### First, the right mindset\n",
    "\n",
    "One thing that's different about contributing to a large codebase as opposed to a smaller one is that things will move slower.  We want to make sure that our changes are truly **contributing**, and not adding to a mess.  This means you will spend much more time reading and understanding code than actually writing code. \n",
    "\n",
    "How much more?  Well, I've been contributing to large codebases for years, and to contribute six lines of code in my first commit, it took around four hours of research before even making any local changes to the codebase."
   ]
  },
  {
   "cell_type": "markdown",
   "id": "d70335b3-1bd7-4067-98ee-92b28bd80f10",
   "metadata": {},
   "source": [
    "### Getting setup"
   ]
  },
  {
   "cell_type": "markdown",
   "id": "46795fa7-47e0-4d71-ab44-604f83648def",
   "metadata": {},
   "source": [
    "Ok, so even though we set up our code in the previous lesson one issue we'll have is that there are always contributions made to the langchain codebase.  To make sure we have the codebase in the correct state, let's **use jigsaw's** [this forked version](https://github.com/jigsawlabs-student/langchain_chat_model) of the codebase.  \n",
    "\n",
    "To do so, you can place the following in your browser:\n",
    "\n",
    "`https://vscode.dev/redirect?url=vscode://ms-vscode-remote.remote-containers/cloneInVolume?url=https://github.com/data-engineering-jigsaw/langchain_lab`\n"
   ]
  },
  {
   "cell_type": "markdown",
   "id": "b5b68973-dd6b-4a41-9f9b-ff7270a223e9",
   "metadata": {},
   "source": [
    "> Remember, you may have to paste this line in your browser twice if Docker was not running."
   ]
  },
  {
   "cell_type": "markdown",
   "id": "df433384-a11f-4f50-8469-59178c3cbadb",
   "metadata": {},
   "source": [
    "Then go to the `libs/community` library:\n",
    "    \n",
    "```bash\n",
    "cd libs/community\n",
    "```\n",
    "\n",
    "And run: \n",
    "```bash\n",
    "poetry install --with lint,typing,test,test_integration\n",
    "pip3 install rapidfuzz\n",
    "```\n",
    "\n",
    "Then run `make test` to confirm that you are properly set up."
   ]
  },
  {
   "cell_type": "markdown",
   "id": "a0ba951a-f053-4b71-8d8f-0a5e02b846f3",
   "metadata": {},
   "source": [
    "### Reviewing our Issue"
   ]
  },
  {
   "cell_type": "markdown",
   "id": "567464bb-b388-474b-9ea6-56eda1f0b136",
   "metadata": {},
   "source": [
    "So in this lesson, we can begin a specific task.  Remember that our issue is to standardize the initializing arguments with different models and libraries that interact with langchain.  \n",
    "\n",
    "We can see the [issue here](https://github.com/langchain-ai/langchain/issues/20085).  \n",
    "\n",
    "And we can also see that a number of pull requests related to the issue have already been merged.\n",
    "\n",
    "<img src=\"./merge-commits.png\" width=\"60%\">"
   ]
  },
  {
   "cell_type": "markdown",
   "id": "036798c4-7905-4fce-9cac-1374dce2db3a",
   "metadata": {},
   "source": [
    "So what's left?  And how can we figure this out?"
   ]
  },
  {
   "cell_type": "markdown",
   "id": "b857b5dd-de96-4454-8a77-6b6ea534abb7",
   "metadata": {},
   "source": [
    "#### Doing some research"
   ]
  },
  {
   "cell_type": "markdown",
   "id": "c0f2219f-c3d8-45e7-9051-3dcea5b601bb",
   "metadata": {},
   "source": [
    "Well if we click through the merged pull requests, we can see the kind of changes we should make.  For example, below are the files changed with respect to [baidu](https://github.com/langchain-ai/langchain/pull/20166/files), and [spark](https://github.com/langchain-ai/langchain/pull/20194/files), [mistral](https://github.com/langchain-ai/langchain/pull/20163/files) and [anthropic](https://github.com/langchain-ai/langchain/pull/20161/files)."
   ]
  },
  {
   "cell_type": "markdown",
   "id": "c9617f8e-234c-45d8-92cb-316ca286fccc",
   "metadata": {},
   "source": [
    "<img src=\"./chat-model-change.png\" width=\"22%\"> <img src=\"./spark-llm.png\" width=\"22%\"> <img src=\"./mistral-change.png\" width=\"22%\"> <img src=\"./anthropic.png\" width=\"22%\"> "
   ]
  },
  {
   "cell_type": "markdown",
   "id": "80a47a92-507f-4544-a868-73baf3aa9b8d",
   "metadata": {},
   "source": [
    "From there, we can start to write down where to look for similar models to change:\n",
    "\n",
    "    * libs/community/langchain_community/chat_models\n",
    "    * libs/partners/*\n",
    "    \n",
    "Really, it just looks like two main folders to examine.\n",
    "\n",
    "There's the folder for `chat_models` and then there's another under `libs/partners/`.  (We should also pay attention to needing to update related documentation, as we can see that was part of the anthropic pull request).\n",
    "\n",
    "Let's go to our local codebase and open them up.  Here's what we'll see under `chat_models` and `libs/partners`."
   ]
  },
  {
   "cell_type": "markdown",
   "id": "489b63dc-ea45-4ebb-9032-84bfa12dd28a",
   "metadata": {},
   "source": [
    "<img src=\"./chat_models_open.png\" width=\"20%\"> <img src=\"./libs_partners.png\" width=\"10%\">"
   ]
  },
  {
   "cell_type": "markdown",
   "id": "8d007bd5-4229-4417-90e2-e4907c60e1ca",
   "metadata": {},
   "source": [
    "So we can see multiple different libraries that can be worked on.  From there, we can try to identify a library that is appropriate to contribute to."
   ]
  },
  {
   "cell_type": "markdown",
   "id": "9b2b2a71-4df8-47fe-b7c0-0bb0660e7569",
   "metadata": {},
   "source": [
    "### Finding a task"
   ]
  },
  {
   "cell_type": "markdown",
   "id": "345745d3-2109-42d8-a53b-cf47d40221db",
   "metadata": {},
   "source": [
    "Again, this is our first commit, so we want our first commit to be easy.\n",
    "\n",
    "> **Protip**: It's difficult to know \"what's easy\" before you try to make the commit.  But just remember, if you get stuck and find yourself in circles, you can always **retreat**.  In other words, see if you can use what you learned to then try to make a more simple contribution.  For example, I originally tried to make a contribution to the huggingface chat model, but then found myself spending hours just trying to get set up with huggingface.  Eventually, I moved onto another library, `perplexity` but used what I learned with huggingface to make my contribution with vertex."
   ]
  },
  {
   "cell_type": "markdown",
   "id": "294a72f4-6376-45b9-8114-27f54af7a149",
   "metadata": {},
   "source": [
    "Ok, so the contribution we'll ultimately make is to standardize the init arguments for the perplexity library.  You can see the relevant code for perplexity [here](https://github.com/jigsawlabs-student/langchain_chat_model/blob/master/libs/community/langchain_community/chat_models/perplexity.py).\n",
    "\n",
    "Why perplexity?  Well, as we'll see, perplexity has some of those `init arguments` that need to be updated.  And secondly, it looks like our changes can be relatively small.  We can see that by searching for various files that say the word `perplexity`.  \n",
    "\n",
    "> In VSCode press `cmd + p` and then search `perplexity`."
   ]
  },
  {
   "cell_type": "markdown",
   "id": "867fda1b-2dae-4418-a4d3-44616d99378c",
   "metadata": {},
   "source": [
    "<img src=\"./perplexity-search.png\" width=\"80%\">"
   ]
  },
  {
   "cell_type": "markdown",
   "id": "2545d7a6-f1c0-480c-b0af-8227f6c230d9",
   "metadata": {},
   "source": [
    "As we can see, there only a few mentions of perplexity in the codebase.  So above, we really only see that on first glance, three files may need to changed."
   ]
  },
  {
   "cell_type": "markdown",
   "id": "6de326a9-b69c-462b-9839-5ae79a80e7ab",
   "metadata": {},
   "source": [
    "#### Changing init arguments\n",
    "\n",
    "The next thing to do is to identify potential init arguments that we can change.\n",
    "\n",
    "If you look at the `ChatPerplexity` model, then you'll see the following:\n",
    "\n",
    "```python\n",
    "client: Any  #: :meta private:\n",
    "model: str = \"pplx-70b-online\"\n",
    "\"\"\"Model name.\"\"\"\n",
    "temperature: float = 0.7\n",
    "\"\"\"What sampling temperature to use.\"\"\"\n",
    "model_kwargs: Dict[str, Any] = Field(default_factory=dict)\n",
    "\"\"\"Holds any model parameters valid for `create` call not explicitly specified.\"\"\"\n",
    "pplx_api_key: Optional[str] = None\n",
    "\"\"\"Base URL path for API requests, \n",
    "leave blank if not using a proxy or service emulator.\"\"\"\n",
    "request_timeout: Optional[Union[float, Tuple[float, float]]] = None\n",
    "\"\"\"Timeout for requests to PerplexityChat completion API. Default is 600 seconds.\"\"\"\n",
    "max_retries: int = 6\n",
    "\"\"\"Maximum number of retries to make when generating.\"\"\"\n",
    "streaming: bool = False\n",
    "\"\"\"Whether to stream the results or not.\"\"\"\n",
    "max_tokens: Optional[int] = None\n",
    "\"\"\"Maximum number of tokens to generate.\"\"\"\n",
    "```"
   ]
  },
  {
   "cell_type": "markdown",
   "id": "dcb8fd4d-08e1-4c02-8dee-6abf8cb9b39a",
   "metadata": {},
   "source": [
    "These are all init arguments, in a model defined with the [Pydantic](https://docs.pydantic.dev/latest/) library.  And if we take another look at the ideal init arguments, we see that we can make our comparison.\n",
    "\n",
    "```python\n",
    "model: str  # model name\n",
    "api_key: str  # api key\n",
    "temperature: float  # temperature sampling\n",
    "timeout: ...  # request timeout\n",
    "max_tokens: int  # max tokens\n",
    "stop_sequences: ...  # stop sequences\n",
    "max_retries: int  # max num retries\n",
    "```\n",
    "\n",
    "Then just go one by one to see which changes need to be made.  \n",
    "```python\n",
    "# model: str  # model name -->\n",
    "api_key: str  # api key\n",
    "# temperature: float  # temperature sampling -->\n",
    "timeout: ...  # request timeout\n",
    "# max_tokens: int  # max tokens -->\n",
    "# stop_sequences: ...  # stop sequences -->\n",
    "# max_retries: int  # max num retries -->\n",
    "```\n",
    "\n",
    "Ok, so it looks like we should update api_key, which is currently `pplx_api_key` and `timeout`, which is currently `request_timeout`.  \n",
    "\n",
    "And how do we actually, make those changes?  Well once again, we'll look to similar parts of the library to determine the fix.  In this case, you can look at the related [Baidu pull request](https://github.com/langchain-ai/langchain/pull/20163/files) or the [Mistral pull request](https://github.com/langchain-ai/langchain/pull/20163/files) to see how the codebase was updated.  \n",
    "\n",
    "> And even if we did not have related pull requests, we should then look to similar files to try to identify a pattern to help us follow the codebase's conventions."
   ]
  },
  {
   "cell_type": "markdown",
   "id": "72c3e0ee-7de7-4384-9cb9-1051d3397258",
   "metadata": {},
   "source": [
    "### Trying it out"
   ]
  },
  {
   "cell_type": "markdown",
   "id": "a2babfd6-5dd3-4ae9-a27a-28406e735938",
   "metadata": {},
   "source": [
    "The first step before making any changes is to run our related tests.  So open up two (and only two) different files on your screen.  \n",
    "\n",
    "* `libs/community/tests/unit_tests/chat_models/test_perplexity.py`\n",
    "* `libs/community/langchain_community/chat_models/perplexity.py`\n",
    "\n",
    "Every other file (maybe except the Makefile) should be closed."
   ]
  },
  {
   "cell_type": "markdown",
   "id": "1af88d1e-3747-4f91-9767-623e4a165bd2",
   "metadata": {},
   "source": [
    "<img src=\"./test-perplexity.png\" width=\"60%\">"
   ]
  },
  {
   "cell_type": "markdown",
   "id": "29cb3d13-346c-46f9-af30-f5ad9c0617e1",
   "metadata": {},
   "source": [
    "And then the next step is to see if we can get these tests to run.  If you look at the Makefile, you'll see how we can run just one specific test."
   ]
  },
  {
   "cell_type": "markdown",
   "id": "23271cf2-e1b2-4b5f-a5e7-7167545dd503",
   "metadata": {},
   "source": [
    "```yaml\n",
    "test tests integration_tests:\n",
    "\tpoetry run pytest $(TEST_FILE)\n",
    "```"
   ]
  },
  {
   "cell_type": "markdown",
   "id": "8ea96151-a49a-4ffc-85b0-5affcebdbb5f",
   "metadata": {},
   "source": [
    "So run the following:"
   ]
  },
  {
   "cell_type": "markdown",
   "id": "cc450e54-f6b9-4b97-a914-dc98dbafe304",
   "metadata": {},
   "source": [
    "```bash\n",
    "poetry run pytest tests/unit_tests/chat_models/test_perplexity.py\n",
    "```"
   ]
  },
  {
   "cell_type": "markdown",
   "id": "1ed32791-de14-4718-b7a6-5e393fc9e1c6",
   "metadata": {},
   "source": [
    "You should see that three tests are successfully run.\n",
    "\n",
    "Now the next step is try to make a fix.  That means updating both the `test_perplexity.py` file and the `chat_models/perplexity.py` files.  So use the [Baidu pull request](https://github.com/langchain-ai/langchain/pull/20163/files) and the [Mistral pull request](https://github.com/langchain-ai/langchain/pull/20163/files) as examples, and try to make a change.  \n",
    "\n",
    "Remember, the init arguments we want to update are the following:\n",
    "\n",
    "```\n",
    "api_key: str  # api key\n",
    "timeout: ...  # request timeout\n",
    "```"
   ]
  },
  {
   "cell_type": "markdown",
   "id": "6acb27c2-b548-48d6-9a19-a98897ff0db2",
   "metadata": {},
   "source": [
    "So take a break from this reading, come back in ten minutes, and then give it a shot."
   ]
  },
  {
   "cell_type": "markdown",
   "id": "0c58d246-784e-4859-a406-6951d3d8a360",
   "metadata": {
    "tags": []
   },
   "source": [
    "### Summary"
   ]
  },
  {
   "cell_type": "markdown",
   "id": "96f359a3-872a-4ab5-b592-9a47b36b5182",
   "metadata": {},
   "source": [
    "In this lesson, we moved towards identifying the task for us to fix.  We began by reviewing the related pull requests to the issue, to see the types of files that were changed.  And then we tried to identify specific parts of the codebase that could use similar contributions.  \n",
    "\n",
    "When settling on the perplexity files, our first step was to **run the tests**.  In this case, it wasn't so difficult, but in other libraries it may require a lot of environmental set up."
   ]
  }
 ],
 "metadata": {
  "kernelspec": {
   "display_name": "Python 3 (ipykernel)",
   "language": "python",
   "name": "python3"
  },
  "language_info": {
   "codemirror_mode": {
    "name": "ipython",
    "version": 3
   },
   "file_extension": ".py",
   "mimetype": "text/x-python",
   "name": "python",
   "nbconvert_exporter": "python",
   "pygments_lexer": "ipython3",
   "version": "3.10.14"
  }
 },
 "nbformat": 4,
 "nbformat_minor": 5
}
