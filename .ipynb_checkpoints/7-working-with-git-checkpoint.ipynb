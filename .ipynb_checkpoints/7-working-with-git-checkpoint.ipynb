{
 "cells": [
  {
   "cell_type": "markdown",
   "id": "56a8486b-59e7-42cf-a2ed-63f01516e0c8",
   "metadata": {},
   "source": [
    "# Working with Git in VSCode"
   ]
  },
  {
   "cell_type": "markdown",
   "id": "24397d13-5244-427f-bf00-3a5b7130b9b0",
   "metadata": {},
   "source": [
    "### Introduction"
   ]
  },
  {
   "cell_type": "markdown",
   "id": "5110e573-2c7a-4566-88ca-4a2a02001273",
   "metadata": {},
   "source": [
    "In previous lessons we moved through the steps of changing our code to complete a task.  However, we did not really address a git workflow.  In this lesson, we'll move through some of the steps we should move through in git when making a commit."
   ]
  },
  {
   "cell_type": "markdown",
   "id": "212991c6-c889-4108-b98d-0fcf3a8b7cd6",
   "metadata": {},
   "source": [
    "### Getting started"
   ]
  },
  {
   "cell_type": "markdown",
   "id": "1c2c9b8b-3136-407d-b116-f3a77728b56d",
   "metadata": {},
   "source": [
    "1. Get oriented\n",
    "\n",
    "We can use `git status` to see where we are.\n",
    "\n",
    "`git status`"
   ]
  },
  {
   "cell_type": "markdown",
   "id": "2fdaa058-b284-43ce-8239-111c3cdf941b",
   "metadata": {},
   "source": [
    "> <img src=\"./langchain-commit.png\" width=\"60%\">"
   ]
  },
  {
   "cell_type": "markdown",
   "id": "87822b8c-894d-4c13-8d69-975b3b30e54f",
   "metadata": {},
   "source": [
    "> Here we see three files changes.  But you may not have any changes to the Makefile.  That's fine/good."
   ]
  },
  {
   "cell_type": "markdown",
   "id": "5cb04634-7f86-408c-bd48-4bf292a9a584",
   "metadata": {},
   "source": [
    "Currently, we may be on the `master` branch, which is equivalent to the `main` branch in many other codebases.  Now we probably should have made a new branch when we first started writing some code.  But don't worry, we can create a new branch now."
   ]
  },
  {
   "cell_type": "markdown",
   "id": "0274c142-7123-44a6-b78a-a91ea43c17ed",
   "metadata": {},
   "source": [
    "* `git checkout -b standardize_perplexity_params`"
   ]
  },
  {
   "cell_type": "markdown",
   "id": "8b3c5d46-7981-4076-903b-97863be94e3e",
   "metadata": {},
   "source": [
    "This creates a new branch, and moves the changes over to the that branch `standardize_perplexity_params`.  Then let's check where we are with `git status`."
   ]
  },
  {
   "cell_type": "markdown",
   "id": "28348357-a507-48a2-96bf-68098174227f",
   "metadata": {},
   "source": [
    "* `git status`\n",
    "```\n",
    "On branch standardize_perplexity_params\n",
    "Changes not staged for commit:\n",
    "  (use \"git add <file>...\" to update what will be committed)\n",
    "  (use \"git restore <file>...\" to discard changes in working directory)\n",
    "        modified:   libs/community/Makefile\n",
    "        modified:   libs/community/langchain_community/chat_models/perplexity.py\n",
    "        modified:   libs/community/tests/unit_tests/chat_models/test_perplexity.py\n",
    "```"
   ]
  },
  {
   "cell_type": "markdown",
   "id": "f9af6fdb-688c-4cb4-a799-c74e099ffb5f",
   "metadata": {},
   "source": [
    "From there, we begin to make a commit, but before we do we should look through all of the changes we have made so far.  This is where we can use `git diff`."
   ]
  },
  {
   "cell_type": "markdown",
   "id": "810c1fc5-8591-4115-b1ad-fca32cc6c274",
   "metadata": {},
   "source": [
    "Oftentimes, it's easier to view those changes file by file.  Let's start with the `Makefile`."
   ]
  },
  {
   "cell_type": "markdown",
   "id": "06ccc4b1-13e4-4f6f-93e2-58f674f1c38c",
   "metadata": {},
   "source": [
    "* `git diff Makefile`"
   ]
  },
  {
   "cell_type": "markdown",
   "id": "1c0dfe6c-6e72-4b73-b8e1-8978d668cf32",
   "metadata": {},
   "source": [
    "<img src=\"./diff-display.png\" width=\"60%\">"
   ]
  },
  {
   "cell_type": "markdown",
   "id": "6cbd161d-9966-430b-ad1c-7473a9daaebc",
   "metadata": {},
   "source": [
    "> **Warning**: This places us in `vim`.  To exit, just type the letter `q`.  Or `ESC`, `:`, `q`."
   ]
  },
  {
   "cell_type": "markdown",
   "id": "983e2c53-75eb-4191-8cc7-40694b541d79",
   "metadata": {},
   "source": [
    "Ok, so here, it looks like I accidentally deleted a space.  A git commit is an authorship of our changes.  Each component should go together.  This is just a mistake, and we should undo the change.  The easiest way to undo it is with `git checkout` like so:"
   ]
  },
  {
   "cell_type": "markdown",
   "id": "d8cff5d8-9ed1-4045-807c-b193f97860d7",
   "metadata": {},
   "source": [
    "* `git checkout libs/community/Makefile`"
   ]
  },
  {
   "cell_type": "markdown",
   "id": "007bd6fd-37df-458a-b729-228142087b30",
   "metadata": {},
   "source": [
    "This will undo our changes from the Makefile.  We can see this if we type `git status` again."
   ]
  },
  {
   "cell_type": "markdown",
   "id": "c8789b04-66f9-4ddf-8d94-980f791a3a98",
   "metadata": {},
   "source": [
    "```bash\n",
    "git status\n",
    "On branch standardize_perplexity_params\n",
    "Changes not staged for commit:\n",
    "  (use \"git add <file>...\" to update what will be committed)\n",
    "  (use \"git restore <file>...\" to discard changes in working directory)\n",
    "        modified:   libs/community/langchain_community/chat_models/perplexity.py\n",
    "        modified:   libs/community/tests/unit_tests/chat_models/test_perplexity.py\n",
    "```"
   ]
  },
  {
   "cell_type": "markdown",
   "id": "6b9fd74b-1cad-4a2e-9a22-f5eb70ef83b6",
   "metadata": {},
   "source": [
    "> So as you can see, `git checkout` can be used a couple different ways.  We can use it to switch branches.  Or we can also use it to remove changes made to one or more files."
   ]
  },
  {
   "cell_type": "markdown",
   "id": "c40ba339-880c-4dfd-a827-c122cb80a071",
   "metadata": {},
   "source": [
    "Ok, so now it looks like we are a bit closer to only the changes we prefer.  But we should make sure.  Once again call `git diff` on each of the files.\n",
    "\n",
    "> You can press the `space` key to move down through the file, and press `q` to exit the file.\n",
    "\n",
    "* `git diff libs/community/langchain_community/chat_models/perplexity.py`\n",
    "* `git diff libs/community/tests/unit_tests/chat_models/test_perplexity.py`"
   ]
  },
  {
   "cell_type": "markdown",
   "id": "29875c77-d728-4e5b-96ad-7d886ae61266",
   "metadata": {},
   "source": [
    "If there are any edits to make, simply edit the file.  But my changes look pretty good."
   ]
  },
  {
   "cell_type": "markdown",
   "id": "7bb6f335-66e2-4308-8347-65cb0f36d2dd",
   "metadata": {},
   "source": [
    "### Formatting code"
   ]
  },
  {
   "cell_type": "markdown",
   "id": "dcd294f9-b59a-4095-8251-2cd78c834c8f",
   "metadata": {},
   "source": [
    "Now if you look at the [contributing code](https://python.langchain.com/docs/contributing/code/) section, they tell us that after running our tests (which we did earlier), we should also properly format the code."
   ]
  },
  {
   "cell_type": "markdown",
   "id": "f75101c9-25b2-4c72-8586-81980394e2d5",
   "metadata": {},
   "source": [
    "This [contributing code](https://python.langchain.com/docs/contributing/code/) section tells us how to do so."
   ]
  },
  {
   "cell_type": "markdown",
   "id": "313fa6b7-c3ac-4efd-a301-54e22d0f382c",
   "metadata": {},
   "source": [
    "> <img src=\"./make-lint.png\" width=\"70%\">"
   ]
  },
  {
   "cell_type": "markdown",
   "id": "0cf31a35-99d1-4269-8e56-f39fa7ccf401",
   "metadata": {},
   "source": [
    "In additon, we can check the Makefile to see what `lint_diff` is doing."
   ]
  },
  {
   "cell_type": "markdown",
   "id": "623e9f61-f980-481d-b8be-65e184ae04bc",
   "metadata": {},
   "source": [
    "```yaml\n",
    "lint lint_diff lint_package lint_tests:\n",
    "\t./scripts/check_pydantic.sh .\n",
    "\t./scripts/lint_imports.sh\n",
    "\tpoetry run ruff .\n",
    "\t[ \"$(PYTHON_FILES)\" = \"\" ] || poetry run ruff format $(PYTHON_FILES) --diff\n",
    "```"
   ]
  },
  {
   "cell_type": "markdown",
   "id": "007494c9-c220-4bab-9ad9-ab2c520a92b2",
   "metadata": {},
   "source": [
    "So this is using the ruff library, which is a formatting library.  We can always ask Chatgpt to explain further.  But let's keep going."
   ]
  },
  {
   "cell_type": "markdown",
   "id": "58723e07-7996-4a02-a695-2288df0b9262",
   "metadata": {},
   "source": [
    "Let's run:\n",
    "\n",
    "```bash\n",
    "make lint_diff\n",
    "```\n",
    "\n"
   ]
  },
  {
   "cell_type": "markdown",
   "id": "88c010ac-1933-4a18-8709-82af09af6aae",
   "metadata": {},
   "source": [
    "For me, this did not actually work.  So in addition, we can also run:"
   ]
  },
  {
   "cell_type": "markdown",
   "id": "ad09654f-5eb8-4e50-9593-79c720c60f98",
   "metadata": {},
   "source": [
    "```bash\n",
    "poetry run ruff libs/community/tests/unit_tests/chat_models/test_perplexity.py\n",
    "libs/community/tests/unit_tests/chat_models/test_perplexity.py:33:89: E501 Line too long (96 > 88)\n",
    "Found 1 error.\n",
    "```"
   ]
  },
  {
   "cell_type": "markdown",
   "id": "50d03f8d-270f-4e30-96fd-2fe55faf8228",
   "metadata": {},
   "source": [
    "This indicates that one of my lines is too long.  But ruff will fix it for me, if I run `poetry run ruff format`.  Let's do that on each of our changed files."
   ]
  },
  {
   "cell_type": "markdown",
   "id": "34d1878a-3b95-4fb1-af99-93232557fe7f",
   "metadata": {},
   "source": [
    "```bash\n",
    "poetry run ruff format libs/community/tests/unit_tests/chat_models/test_perplexity.py\n",
    "\n",
    "poetry run ruff format libs/community/langchain_community/chat_models/perplexity.py\n",
    "```"
   ]
  },
  {
   "cell_type": "markdown",
   "id": "cee38769-fdb3-4430-a2df-37f9a247c8c9",
   "metadata": {},
   "source": [
    "If you look at the files now, you should see your code properly formatted.  We are now almost ready to to make a commit, but it's best to run our tests again."
   ]
  },
  {
   "cell_type": "markdown",
   "id": "1eeaf3bd-77d5-41e3-b575-7b4d86f367f4",
   "metadata": {},
   "source": [
    "```bash\n",
    "make tests\n",
    "```"
   ]
  },
  {
   "cell_type": "markdown",
   "id": "3a236b34-6e71-41ef-b7be-5fb546b6a8d1",
   "metadata": {},
   "source": [
    "### Finally a commit"
   ]
  },
  {
   "cell_type": "markdown",
   "id": "f0d78c0b-6ff9-4ec9-8a7b-f78108a8979d",
   "metadata": {},
   "source": [
    "Ok, so if all of our tests pass, then we can make a commit."
   ]
  },
  {
   "cell_type": "markdown",
   "id": "ac6da0f4-d120-407b-8ff1-db2fc8448a35",
   "metadata": {},
   "source": [
    "```bash\n",
    "git status \n",
    "#check to make sure only the files we want have been changed\n",
    "\n",
    "git add -A\n",
    "# Add changes to staging\n",
    "```"
   ]
  },
  {
   "cell_type": "markdown",
   "id": "d18d78b1-c8fc-450b-ba18-692e168c1bb2",
   "metadata": {},
   "source": [
    "Then confirm we did this correctly."
   ]
  },
  {
   "cell_type": "markdown",
   "id": "0c8e75c6-bde6-4fda-b86f-a2a0ca0a62f1",
   "metadata": {},
   "source": [
    "```bash\n",
    "git status\n",
    "On branch standardize_perplexity_params\n",
    "Changes to be committed:\n",
    "  (use \"git restore --staged <file>...\" to unstage)\n",
    "        modified:   libs/community/langchain_community/chat_models/perplexity.py\n",
    "        modified:   libs/community/tests/unit_tests/chat_models/test_perplexity.py\n",
    "```"
   ]
  },
  {
   "cell_type": "markdown",
   "id": "790b4d30-3296-458d-a21c-29d4dca42fac",
   "metadata": {},
   "source": [
    "* Making a multiline commit"
   ]
  },
  {
   "cell_type": "markdown",
   "id": "3421ac61-48b3-4fb4-abad-93309517e887",
   "metadata": {},
   "source": [
    "When making a commit, it's a good idea to have a description of what we are contributing as well as a link to the issue or feature request.  For example, this is fairly good.\n",
    "\n",
    "```markdown\n",
    "community:perplexity[patch]: standardize init args\n",
    "\n",
    "updated pplx_api_key and request_timeout so that aliased to api_key, and timeout respectively. Added test that both continue to set the same underlying attributes.\n",
    "\n",
    "Related to [20085](https://github.com/langchain-ai/langchain/issues/20085)\n",
    "```"
   ]
  },
  {
   "cell_type": "markdown",
   "id": "ee5e3b37-225a-44e8-889e-14b9182f89dd",
   "metadata": {},
   "source": [
    "But how do we have a multiline commit?  Ideally, we can use `git commit -v`, where v stands for visual.  But unfortunately, this did not work for me.  \n",
    "\n",
    "So instead we can write our message in a separate file, and then specify that the contents of the file should be our commit message.  To accomplish this, create a new file in the root of the project directory.  \n",
    "\n",
    "```\n",
    "touch sample-message.txt\n",
    "```"
   ]
  },
  {
   "cell_type": "markdown",
   "id": "3330ae79-0420-4bef-bd6e-17ac33d41d60",
   "metadata": {},
   "source": [
    "And then we can copy and paste the message above into the text file.  And then we can make our commit, where the message is in the file.\n",
    "\n",
    "* `git commit -F sample-message.txt`"
   ]
  },
  {
   "cell_type": "markdown",
   "id": "21a4f0be-0f33-474f-8308-af6eb5db7a36",
   "metadata": {},
   "source": [
    "If you type `git log -2`, you should now see your multiline commit."
   ]
  },
  {
   "cell_type": "markdown",
   "id": "e5adf9ca-638d-4072-a580-e70f63e439c3",
   "metadata": {},
   "source": [
    "```bash\n",
    "Author: Jeff K <someemail@gmail.com>\n",
    "Date:   Wed May 1 19:05:39 2024 +0000\n",
    "\n",
    "    community:perplexity[patch]: standardize init args\n",
    "    \n",
    "    updated pplx_api_key and request_timeout so that aliased to api_key, and timeout respectively. Added test that both continue to set the same underlying attributes.\n",
    "    \n",
    "    Related to [20085](https://github.com/langchain-ai/langchain/issues/20085)\n",
    "```"
   ]
  },
  {
   "cell_type": "markdown",
   "id": "0feb8743-f2ab-4111-88ef-4cca4572fa1b",
   "metadata": {},
   "source": [
    "That looks pretty good.  "
   ]
  },
  {
   "cell_type": "markdown",
   "id": "c6516688-6618-459c-a7e5-2ae739b6efc5",
   "metadata": {},
   "source": [
    "* Adding an author\n",
    "\n",
    "So above, I have a nice byline to both have some credit (and some blame) for my commit.  If there's an issue, someone can email me, or ask me about my commit.  If you don't see your own name on your commit, you can `amend` your commit with the following:\n",
    "\n",
    "```bash\n",
    "git commit --amend --author=\"Author Name <email@example.com>\" -F sample-message.txt\n",
    "```"
   ]
  },
  {
   "cell_type": "markdown",
   "id": "6e3bdbfc-eb11-4088-9c59-1a3031cca0a7",
   "metadata": {},
   "source": [
    "> And just replace the author name and email as appropriate."
   ]
  },
  {
   "cell_type": "markdown",
   "id": "b6211186-9990-48c7-a3f1-38e3f4ad31d0",
   "metadata": {},
   "source": [
    "Now we do have one more key step which is to rebase our branch to ensure it is up to date with the current version of the codebase.  But we'll cover that in the next lesson."
   ]
  },
  {
   "cell_type": "markdown",
   "id": "1e003845-8bb8-4e0b-8462-6d4b14567b5b",
   "metadata": {},
   "source": [
    "### Summary"
   ]
  },
  {
   "cell_type": "markdown",
   "id": "86e8c72e-c853-453f-936c-ea9c6e1679fa",
   "metadata": {},
   "source": [
    "In this lesson, we covered various details of a good workflow.  These include the following:\n",
    "\n",
    "1. Using `git status` and `git diff` to see what changes have been made to the codebase.  \n",
    "\n",
    "And then being careful to only add those changes that we want.  We can use `git diff file_name.py` to check the changes made to one file at a time.\n",
    "\n",
    "2. Running the specified linter.  \n",
    "\n",
    "We used `poetry run ruff file_name.py` to spot any error, and `poetry run ruff format file_name.py` to actually change the file.\n",
    "\n",
    "3. Adding a multi-line commit that links to the issue we are fixing\n",
    "\n",
    "This is key.  We want our commit to link to the broader issue that it is trying to fix.  We can create a new file, eg. `sample-message.txt`) and then running `git commit -F sample-message.txt`.\n",
    "\n",
    "4. Signing off\n",
    "\n",
    "Finally, we can add our name and email\n",
    "\n",
    "`git commit --amend --author=\"Author Name <email@example.com>\" -F sample-message.txt`"
   ]
  }
 ],
 "metadata": {
  "kernelspec": {
   "display_name": "Python 3 (ipykernel)",
   "language": "python",
   "name": "python3"
  },
  "language_info": {
   "codemirror_mode": {
    "name": "ipython",
    "version": 3
   },
   "file_extension": ".py",
   "mimetype": "text/x-python",
   "name": "python",
   "nbconvert_exporter": "python",
   "pygments_lexer": "ipython3",
   "version": "3.10.14"
  }
 },
 "nbformat": 4,
 "nbformat_minor": 5
}
